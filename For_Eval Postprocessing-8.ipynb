{
 "cells": [
  {
   "cell_type": "code",
   "execution_count": 1,
   "metadata": {
    "collapsed": false
   },
   "outputs": [],
   "source": [
    "\"\"\"\n",
    "Baseline for CIL project on road segmentation.\n",
    "This simple baseline consits of a CNN with two convolutional+pooling layers with a soft-max loss\n",
    "\"\"\"\n",
    "\n",
    "import gzip\n",
    "import os\n",
    "import sys\n",
    "import urllib\n",
    "import matplotlib.image as mpimg\n",
    "from PIL import Image\n",
    "from random import shuffle\n",
    "import time\n",
    "\n",
    "import code\n",
    "\n",
    "import tensorflow.python.platform\n",
    "\n",
    "import numpy as np\n",
    "import tensorflow as tf\n",
    "\n",
    "import cil_helper as cil\n",
    "\n",
    "from skimage.feature import greycomatrix, greycoprops"
   ]
  },
  {
   "cell_type": "code",
   "execution_count": 2,
   "metadata": {
    "collapsed": false
   },
   "outputs": [],
   "source": [
    "try:\n",
    "    tf.app.flags.DEFINE_string('log_dir', '/tmp/tensorflow_lukas_balz',\n",
    "                           \"\"\"Directory where to write event logs \"\"\"\n",
    "                           \"\"\"and checkpoint.\"\"\")\n",
    "except: \n",
    "    print(tf.app.flags.FLAGS.log_dir)\n",
    "    \n",
    "FLAGS = tf.app.flags.FLAGS"
   ]
  },
  {
   "cell_type": "code",
   "execution_count": 3,
   "metadata": {
    "collapsed": true
   },
   "outputs": [],
   "source": [
    "################################################################\n",
    "######## ONLY CHANGE WHAT YOU ARE TESTING ######################\n",
    "################################################################\n",
    "TRAINING_SIZE = 40\n",
    "VALIDATION_SIZE = 10  # Size of the validation set.\n",
    "TEST_SIZE = 50\n",
    "SEED = 66478  # Set to None for random seed.\n",
    "BATCH_SIZE = 64 # 64\n",
    "NUM_EPOCHS = 10\n",
    "RESTORE_MODEL = False # If True, restore existing model instead of training a new one\n",
    "RECORDING_STEP = 200\n",
    "ERROR_STEP = 500\n",
    "\n",
    "# Set image patch size in pixels\n",
    "# IMG_PATCH_SIZE should be a multiple of 4\n",
    "# image size should be an integer multiple of this number!\n",
    "IMG_PATCH_SIZE = 8\n",
    "NUM_CHANNELS = 3\n",
    "\n",
    "# all prediction size\n",
    "ALL_PER = 500"
   ]
  },
  {
   "cell_type": "code",
   "execution_count": 4,
   "metadata": {
    "collapsed": true
   },
   "outputs": [],
   "source": [
    "data_dir = 'training/'\n",
    "train_data_filename = data_dir + 'images/'\n",
    "train_labels_filename = data_dir + 'groundtruth/' \n",
    "test_dir = \"test/\""
   ]
  },
  {
   "cell_type": "code",
   "execution_count": 5,
   "metadata": {
    "collapsed": true
   },
   "outputs": [],
   "source": [
    "# returns all train images in rgb\n",
    "def get_train_imgs():\n",
    "    imgs = []\n",
    "    for i in range(TRAINING_SIZE):\n",
    "        imageid = \"satImage_%.3d\" % (i+1)\n",
    "        image_filename = train_data_filename + imageid + \".png\"\n",
    "        if os.path.isfile(image_filename):\n",
    "            #print ('Loading ' + image_filename)\n",
    "            img = mpimg.imread(image_filename)\n",
    "            imgs.append(img)\n",
    "        else:\n",
    "            raise Exception('File ' + image_filename + ' does not exist')\n",
    "    return np.asarray(imgs)"
   ]
  },
  {
   "cell_type": "code",
   "execution_count": null,
   "metadata": {
    "collapsed": true
   },
   "outputs": [],
   "source": []
  },
  {
   "cell_type": "code",
   "execution_count": null,
   "metadata": {
    "collapsed": true
   },
   "outputs": [],
   "source": []
  },
  {
   "cell_type": "code",
   "execution_count": 6,
   "metadata": {
    "collapsed": true
   },
   "outputs": [],
   "source": [
    "def img_crop(im, w, h, pred=False):\n",
    "    list_patches = []\n",
    "    imgwidth = im.shape[0]\n",
    "    imgheight = im.shape[1]\n",
    "    is_2d = len(im.shape) < 3\n",
    "    for i in range(0,imgheight,h):\n",
    "        for j in range(0,imgwidth,w):\n",
    "            if is_2d:\n",
    "                im_patch = im[j:j+w, i:i+h]\n",
    "            else:\n",
    "                im_patch = im[j:j+w, i:i+h, :]\n",
    "            list_patches.append(im_patch)\n",
    "    return list_patches"
   ]
  },
  {
   "cell_type": "code",
   "execution_count": null,
   "metadata": {
    "collapsed": true
   },
   "outputs": [],
   "source": []
  },
  {
   "cell_type": "code",
   "execution_count": 7,
   "metadata": {
    "collapsed": true
   },
   "outputs": [],
   "source": [
    "# Extract label images\n",
    "def extract_labels(filename, num_images):\n",
    "    \"\"\"Extract the labels into a 1-hot matrix [image index, label index].\"\"\"\n",
    "    gt_imgs = []\n",
    "    for i in range(1, num_images+1):\n",
    "        imageid = \"satImage_%.3d\" % i\n",
    "        image_filename = filename + imageid + \".png\"\n",
    "        if os.path.isfile(image_filename):\n",
    "            #print ('Loading ' + image_filename)\n",
    "            img = mpimg.imread(image_filename)\n",
    "            gt_imgs.append(img)\n",
    "        else:\n",
    "            print ('File ' + image_filename + ' does not exist')\n",
    "\n",
    "    num_images = len(gt_imgs)\n",
    "    gt_patches = [img_crop(gt_imgs[i], IMG_PATCH_SIZE, IMG_PATCH_SIZE) for i in range(num_images)]\n",
    "    data = np.asarray([gt_patches[i][j] for i in range(len(gt_patches)) for j in range(len(gt_patches[i]))])\n",
    "    labels = np.asarray([value_to_class(np.mean(data[i])) for i in range(len(data))])\n",
    "\n",
    "    # Convert to dense 1-hot representation.\n",
    "    return labels.astype(np.float32)"
   ]
  },
  {
   "cell_type": "code",
   "execution_count": 8,
   "metadata": {
    "collapsed": false
   },
   "outputs": [],
   "source": [
    "def make_patches(imgs, num_images):\n",
    "    #num_images = len(imgs)\n",
    "    IMG_WIDTH = imgs[0].shape[0]\n",
    "    IMG_HEIGHT = imgs[0].shape[1]\n",
    "    DIMS = 4\n",
    "    N_PATCHES_PER_IMAGE = (IMG_WIDTH/IMG_PATCH_SIZE)*(IMG_HEIGHT/IMG_PATCH_SIZE)\n",
    "\n",
    "    img_patches = [img_crop(imgs[i], IMG_PATCH_SIZE, IMG_PATCH_SIZE) for i in range(num_images)]\n",
    "    data = [img_patches[i][j] for i in range(len(img_patches)) for j in range(len(img_patches[i]))]\n",
    "\n",
    "    return np.asarray(data)"
   ]
  },
  {
   "cell_type": "code",
   "execution_count": null,
   "metadata": {
    "collapsed": true
   },
   "outputs": [],
   "source": []
  },
  {
   "cell_type": "code",
   "execution_count": 9,
   "metadata": {
    "collapsed": true
   },
   "outputs": [],
   "source": [
    "# Assign a label to a patch v\n",
    "def value_to_class(v):\n",
    "    foreground_threshold = 0.75 # percentage of pixels > 1 required to assign a foreground label to a patch\n",
    "    #ret#urn [1-v , v]\n",
    "    df = np.sum(v)\n",
    "    if df < foreground_threshold:\n",
    "       return [0, 1]\n",
    "    else:\n",
    "       return [1, 0]"
   ]
  },
  {
   "cell_type": "code",
   "execution_count": null,
   "metadata": {
    "collapsed": false
   },
   "outputs": [],
   "source": []
  },
  {
   "cell_type": "code",
   "execution_count": 10,
   "metadata": {
    "collapsed": true
   },
   "outputs": [],
   "source": [
    "def load_preproc(save_dir):\n",
    "    assert save_dir.endswith('/')\n",
    "    return np.load(save_dir + 'preprocessed2.npy')"
   ]
  },
  {
   "cell_type": "code",
   "execution_count": 11,
   "metadata": {
    "collapsed": false,
    "scrolled": true
   },
   "outputs": [],
   "source": [
    "train_preproc = load_preproc(train_data_filename)\n",
    "train_data = make_patches(train_preproc, TRAINING_SIZE)\n",
    "\n",
    "train_labels = extract_labels(train_labels_filename, TRAINING_SIZE)"
   ]
  },
  {
   "cell_type": "code",
   "execution_count": 12,
   "metadata": {
    "collapsed": false
   },
   "outputs": [
    {
     "name": "stdout",
     "output_type": "stream",
     "text": [
      "(100000, 8, 8, 6)\n",
      "(100000, 8, 8, 3)\n"
     ]
    }
   ],
   "source": [
    "print(train_data.shape)\n",
    "train_data = train_data[:,:,:,0:NUM_CHANNELS]\n",
    "print(train_data.shape)"
   ]
  },
  {
   "cell_type": "code",
   "execution_count": 13,
   "metadata": {
    "collapsed": false
   },
   "outputs": [
    {
     "name": "stdout",
     "output_type": "stream",
     "text": [
      "Number of data points per class: c0 = 15237 c1 = 84763\n"
     ]
    }
   ],
   "source": [
    "c0 = 0\n",
    "c1 = 0\n",
    "for i in range(len(train_labels)):\n",
    "    if train_labels[i][0] > 0.5:\n",
    "        c0 = c0 + 1 # foreground -> road\n",
    "    else:\n",
    "        c1 = c1 + 1 # background\n",
    "print ('Number of data points per class: c0 = ' + str(c0) + ' c1 = ' + str(c1))"
   ]
  },
  {
   "cell_type": "code",
   "execution_count": 14,
   "metadata": {
    "collapsed": true
   },
   "outputs": [],
   "source": [
    "sampling = False"
   ]
  },
  {
   "cell_type": "code",
   "execution_count": 15,
   "metadata": {
    "collapsed": false
   },
   "outputs": [
    {
     "name": "stdout",
     "output_type": "stream",
     "text": [
      "Balancing training data...\n",
      "30474\n",
      "(30474, 8, 8, 3)\n"
     ]
    }
   ],
   "source": [
    "print ('Balancing training data...')\n",
    "min_c = min(c0, c1)\n",
    "idx0 = [i for i, j in enumerate(train_labels) if j[0] == 1]\n",
    "idx1 = [i for i, j in enumerate(train_labels) if j[1] == 1]\n",
    "lim = min_c\n",
    "    \n",
    "new_indices = idx0[0:lim] + idx1[0:lim]\n",
    "train_data = train_data[new_indices,:,:,:]\n",
    "train_labels = train_labels[new_indices]\n",
    "    \n",
    "print(len(new_indices))\n",
    "print(train_data.shape)"
   ]
  },
  {
   "cell_type": "code",
   "execution_count": 16,
   "metadata": {
    "collapsed": true
   },
   "outputs": [],
   "source": [
    "train_size = train_labels.shape[0]"
   ]
  },
  {
   "cell_type": "code",
   "execution_count": 17,
   "metadata": {
    "collapsed": false
   },
   "outputs": [],
   "source": [
    "# This is where training samples and labels are fed to the graph.\n",
    "# These placeholder nodes will be fed a batch of training data at each\n",
    "# training step using the {feed_dict} argument to the Run() call below.\n",
    "train_data_node = tf.placeholder(\n",
    "    tf.float32,\n",
    "    shape=(BATCH_SIZE, IMG_PATCH_SIZE, IMG_PATCH_SIZE, NUM_CHANNELS),\n",
    "    name='train_data')\n",
    "train_labels_node = tf.placeholder(\n",
    "    tf.float32,\n",
    "    shape=(BATCH_SIZE, cil.NUM_LABELS),\n",
    "    name='train_labels')\n",
    "train_all_data_node = tf.constant(train_data)"
   ]
  },
  {
   "cell_type": "code",
   "execution_count": 18,
   "metadata": {
    "collapsed": false
   },
   "outputs": [],
   "source": [
    "# The variables below hold all the trainable weights. They are passed an\n",
    "# initial value which will be assigned when when we call:\n",
    "# {tf.initialize_all_variables().run()}\n",
    "conv1_weights = cil.weight_variable([4, 4, NUM_CHANNELS, 200])\n",
    "conv1_biases = cil.bias_variable([200])\n",
    "\n",
    "conv3_weights = cil.weight_variable([2, 2, 200, 400])\n",
    "conv3_biases = cil.bias_variable([400])\n",
    "\n",
    "fc1_weights = tf.Variable(  # fully connected, depth 512.\n",
    "    tf.truncated_normal([1600, 1200],\n",
    "                        stddev=0.05,\n",
    "                        seed=SEED))\n",
    "fc1_biases = tf.Variable(tf.constant(0.05, shape=[1200]))\n",
    "fc2_weights = tf.Variable(\n",
    "    tf.truncated_normal([1200, cil.NUM_LABELS],\n",
    "                        stddev=0.1,\n",
    "                        seed=SEED))\n",
    "fc2_biases = tf.Variable(tf.constant(0.1, shape=[cil.NUM_LABELS]))"
   ]
  },
  {
   "cell_type": "code",
   "execution_count": 19,
   "metadata": {
    "collapsed": false
   },
   "outputs": [],
   "source": [
    "# We will replicate the model structure for the training subgraph, as well\n",
    "# as the evaluation subgraphs, while sharing the trainable parameters.\n",
    "def model(data, train=False):\n",
    "    \"\"\"The Model definition.\"\"\"\n",
    "    conv = cil.conv2d(data, conv1_weights)\n",
    "    relu = tf.nn.relu(tf.nn.bias_add(conv, conv1_biases))\n",
    "    pool = cil.max_pool_2x2(relu)\n",
    "    \n",
    "    conv3 = cil.conv2d(pool, conv3_weights)\n",
    "    relu3 = tf.nn.relu(tf.nn.bias_add(conv3, conv3_biases))\n",
    "    pool3 = cil.max_pool_2x2(relu3)\n",
    "\n",
    "    # Reshape the feature map cuboid into a 2D matrix to feed it to the\n",
    "    # fully connected layers.\n",
    "    pool_shape = pool3.get_shape().as_list()\n",
    "    reshape = tf.reshape(\n",
    "        pool3,\n",
    "        [pool_shape[0], pool_shape[1] * pool_shape[2] * pool_shape[3]])\n",
    "    # Fully connected layer. Note that the '+' operation automatically\n",
    "    # broadcasts the biases.\n",
    "    \n",
    "    #print(pool4.get_shape())\n",
    "    #print(reshape.get_shape())\n",
    "    #print(fc1_weights.get_shape())\n",
    "    \n",
    "    fc1 = tf.nn.relu(tf.matmul(reshape, fc1_weights) + fc1_biases)\n",
    "    if train:\n",
    "        fc1 = tf.nn.dropout(fc1, 0.6, seed=SEED)\n",
    "    fc2 = tf.matmul(fc1, fc2_weights) + fc2_biases\n",
    "\n",
    "    return fc2"
   ]
  },
  {
   "cell_type": "code",
   "execution_count": 20,
   "metadata": {
    "collapsed": false
   },
   "outputs": [],
   "source": [
    "# Training computation: logits + cross-entropy loss.\n",
    "logits = model(train_data_node, True) # BATCH_SIZE*NUM_LABELS\n",
    "# print 'logits = ' + str(logits.get_shape()) + ' train_labels_node = ' + str(train_labels_node.get_shape())\n",
    "loss = tf.reduce_mean(tf.nn.softmax_cross_entropy_with_logits(\n",
    "    logits, train_labels_node))"
   ]
  },
  {
   "cell_type": "code",
   "execution_count": null,
   "metadata": {
    "collapsed": false
   },
   "outputs": [],
   "source": []
  },
  {
   "cell_type": "code",
   "execution_count": 21,
   "metadata": {
    "collapsed": false
   },
   "outputs": [],
   "source": [
    "# L2 regularization for the fully connected parameters.\n",
    "regularizers = (tf.nn.l2_loss(fc1_weights) + tf.nn.l2_loss(fc1_biases) +\n",
    "                tf.nn.l2_loss(fc2_weights) + tf.nn.l2_loss(fc2_biases))\n",
    "# Add the regularization term to the loss.\n",
    "loss += 5e-4 * regularizers"
   ]
  },
  {
   "cell_type": "code",
   "execution_count": 22,
   "metadata": {
    "collapsed": false
   },
   "outputs": [],
   "source": [
    "# Optimizer: set up a variable that's incremented once per batch and\n",
    "# controls the learning rate decay.\n",
    "batch = tf.Variable(0)\n",
    "# Decay once per epoch, using an exponential schedule starting at 0.01.\n",
    "learning_rate = tf.train.exponential_decay(\n",
    "    0.01,                # Base learning rate.\n",
    "    batch * BATCH_SIZE,  # Current index into the dataset.\n",
    "    train_size,          # Decay step.\n",
    "    0.95,                # Decay rate.\n",
    "    staircase=True)"
   ]
  },
  {
   "cell_type": "code",
   "execution_count": 23,
   "metadata": {
    "collapsed": false
   },
   "outputs": [],
   "source": [
    "# Use simple momentum for the optimization.\n",
    "#optimizer = tf.train.MomentumOptimizer(learning_rate, 0.1).minimize(loss, global_step=batch)\n",
    "\n",
    "# try adam\n",
    "optimizer = tf.train.AdamOptimizer(learning_rate).minimize(loss, global_step=batch)"
   ]
  },
  {
   "cell_type": "code",
   "execution_count": 24,
   "metadata": {
    "collapsed": false
   },
   "outputs": [],
   "source": [
    "# Predictions for the minibatch, validation set and test set.\n",
    "train_prediction = tf.nn.softmax(logits)\n",
    "# We'll compute them only once in a while by calling their {eval()} method.\n",
    "train_all_prediction = tf.nn.softmax(model(train_all_data_node[0:ALL_PER,:,:,:]))\n",
    "\n",
    "# Add ops to save and restore all the variables.\n",
    "saver = tf.train.Saver()"
   ]
  },
  {
   "cell_type": "code",
   "execution_count": 25,
   "metadata": {
    "collapsed": false
   },
   "outputs": [],
   "source": [
    "s = tf.InteractiveSession()"
   ]
  },
  {
   "cell_type": "code",
   "execution_count": 26,
   "metadata": {
    "collapsed": true
   },
   "outputs": [],
   "source": [
    "# Get prediction overlaid on the original image for given input image\n",
    "def get_prediction_with_overlay(img):\n",
    "    \n",
    "    img_prediction = get_prediction(img)\n",
    "    oimg = cil.make_img_overlay(img[:,:,:3], img_prediction)\n",
    "\n",
    "    return oimg\n",
    "\n",
    "# Get a concatenation of the prediction and groundtruth for given input file\n",
    "def get_prediction_with_groundtruth(img):\n",
    "    \n",
    "    img_prediction = get_prediction(img)\n",
    "    cimg = cil.concatenate_images(img[:,:,:3], img_prediction)\n",
    "\n",
    "    return cimg\n",
    "\n",
    "# Get prediction for given input image \n",
    "def get_prediction(img):\n",
    "    data = np.asarray(img_crop(img, IMG_PATCH_SIZE, IMG_PATCH_SIZE, True))\n",
    "    data = data[:,:,:,0:NUM_CHANNELS]\n",
    "    data_node = tf.constant(data)\n",
    "    output = tf.nn.softmax(model(data_node))\n",
    "    output_prediction = s.run(output)\n",
    "    img_prediction = cil.label_to_img(img.shape[0], img.shape[1], IMG_PATCH_SIZE, IMG_PATCH_SIZE, output_prediction)\n",
    "\n",
    "    return img_prediction"
   ]
  },
  {
   "cell_type": "code",
   "execution_count": null,
   "metadata": {
    "collapsed": false
   },
   "outputs": [],
   "source": []
  },
  {
   "cell_type": "code",
   "execution_count": 27,
   "metadata": {
    "collapsed": false
   },
   "outputs": [
    {
     "name": "stdout",
     "output_type": "stream",
     "text": [
      "Initialized!\n"
     ]
    }
   ],
   "source": [
    "# Run all the initializers to prepare the trainable parameters.\n",
    "tf.initialize_all_variables().run()\n",
    "\n",
    "print ('Initialized!')"
   ]
  },
  {
   "cell_type": "code",
   "execution_count": 28,
   "metadata": {
    "collapsed": false,
    "scrolled": true
   },
   "outputs": [
    {
     "name": "stdout",
     "output_type": "stream",
     "text": [
      "Total number of iterations = 4761\n",
      "step 0, error: 98.6% (0.273 sec/batch)\n",
      "step 200, batch error: 60.9% (0.142 sec/batch)\n",
      "step 400, batch error: 50.0% (0.082 sec/batch)\n",
      "step 500, error: 21.6% (0.360 sec/batch)\n",
      "step 600, batch error: 46.9% (0.086 sec/batch)\n",
      "step 800, batch error: 51.6% (0.079 sec/batch)\n",
      "step 1000, error: 21.0% (0.373 sec/batch)\n",
      "step 1200, batch error: 43.8% (0.095 sec/batch)\n",
      "step 1400, batch error: 53.1% (0.071 sec/batch)\n",
      "step 1500, error: 17.2% (0.298 sec/batch)\n",
      "step 1600, batch error: 43.8% (0.075 sec/batch)\n",
      "step 1800, batch error: 59.4% (0.099 sec/batch)\n",
      "step 2000, error: 24.6% (0.389 sec/batch)\n",
      "step 2200, batch error: 50.0% (0.081 sec/batch)\n",
      "step 2400, batch error: 51.6% (0.048 sec/batch)\n",
      "step 2500, error: 58.4% (0.408 sec/batch)\n",
      "step 2600, batch error: 53.1% (0.092 sec/batch)\n",
      "step 2800, batch error: 53.1% (0.155 sec/batch)\n",
      "step 3000, error: 50.0% (0.350 sec/batch)\n",
      "step 3200, batch error: 42.2% (0.071 sec/batch)\n",
      "step 3400, batch error: 51.6% (0.081 sec/batch)\n",
      "step 3500, error: 30.0% (0.346 sec/batch)\n",
      "step 3600, batch error: 54.7% (0.081 sec/batch)\n",
      "step 3800, batch error: 54.7% (0.067 sec/batch)\n",
      "step 4000, error: 25.8% (0.382 sec/batch)\n",
      "step 4200, batch error: 50.0% (0.041 sec/batch)\n",
      "step 4400, batch error: 39.1% (0.048 sec/batch)\n",
      "step 4500, error: 20.6% (0.220 sec/batch)\n",
      "step 4600, batch error: 54.7% (0.057 sec/batch)\n"
     ]
    }
   ],
   "source": [
    "# Loop through training steps.\n",
    "print ('Total number of iterations = ' + str(int(NUM_EPOCHS * train_size / BATCH_SIZE)))\n",
    "\n",
    "training_indices = range(train_size)\n",
    "\n",
    "for iepoch in range(NUM_EPOCHS):\n",
    "\n",
    "    # Permute training indices\n",
    "    perm_indices = np.random.permutation(training_indices)\n",
    "\n",
    "    for step in range (int(train_size / BATCH_SIZE)):\n",
    "\n",
    "        offset = (step * BATCH_SIZE) % (train_size - BATCH_SIZE)\n",
    "        batch_indices = perm_indices[offset:(offset + BATCH_SIZE)]\n",
    "\n",
    "        # Compute the offset of the current minibatch in the data.\n",
    "        # Note that we could use better randomization across epochs.\n",
    "        batch_data = train_data[batch_indices, :, :, :]\n",
    "        batch_labels = train_labels[batch_indices]\n",
    "        \n",
    "        #print('batch_data.shape = ' + str(batch_data.shape))\n",
    "        # This dictionary maps the batch data (as a numpy array) to the\n",
    "        # node in the graph is should be fed to.\n",
    "        feed_dict = {train_data_node: batch_data, train_labels_node: batch_labels}\n",
    "\n",
    "        stepNr = step + iepoch*int(train_size / BATCH_SIZE)\n",
    "\n",
    "        if stepNr % ERROR_STEP == 0:\n",
    "            start_time = time.time()\n",
    "            l, lr, all_predictions = s.run(\n",
    "                        [loss, learning_rate, train_all_prediction],\n",
    "                        feed_dict=feed_dict)\n",
    "            \n",
    "            duration = time.time() - start_time\n",
    "            loss_value = cil.error_rate(all_predictions, train_labels[:ALL_PER,:])\n",
    "            \n",
    "            format_str = ('step %d, error: %.1f%% (%.3f sec/batch)')\n",
    "            print (format_str % (stepNr, loss_value, duration)) \n",
    "        elif stepNr % RECORDING_STEP == 0:\n",
    "            \n",
    "            start_time = time.time()\n",
    "            l, lr, all_predictions = s.run(\n",
    "                        [loss, learning_rate, train_prediction],\n",
    "                        feed_dict=feed_dict)\n",
    "            \n",
    "            duration = time.time() - start_time\n",
    "            loss_value = cil.error_rate(predictions, batch_labels)\n",
    "            \n",
    "            format_str = ('step %d, batch error: %.1f%% (%.3f sec/batch)')\n",
    "            print (format_str % (stepNr, loss_value, duration)) \n",
    "        else:\n",
    "            # Run the graph and fetch some of the nodes.\n",
    "            _, l, lr, predictions = s.run(\n",
    "                        [optimizer, loss, learning_rate, train_prediction],\n",
    "                        feed_dict=feed_dict)"
   ]
  },
  {
   "cell_type": "code",
   "execution_count": 29,
   "metadata": {
    "collapsed": false
   },
   "outputs": [],
   "source": [
    "save_path = saver.save(s, FLAGS.train_dir + \"/model-post-8.ckpt\")"
   ]
  },
  {
   "cell_type": "code",
   "execution_count": 30,
   "metadata": {
    "collapsed": true
   },
   "outputs": [],
   "source": [
    "run_name = '_eval_postproc8'"
   ]
  },
  {
   "cell_type": "code",
   "execution_count": 31,
   "metadata": {
    "collapsed": false
   },
   "outputs": [
    {
     "name": "stdout",
     "output_type": "stream",
     "text": [
      "Running prediction on training set\n"
     ]
    }
   ],
   "source": [
    "print (\"Running prediction on training set\")\n",
    "prediction_training_dir = \"predictions_training/\"\n",
    "if not os.path.isdir(prediction_training_dir):\n",
    "    os.mkdir(prediction_training_dir)\n",
    "    \n",
    "for i in range(TRAINING_SIZE):\n",
    "    pimg = get_prediction_with_groundtruth(train_preproc[i])\n",
    "    Image.fromarray(pimg).save(prediction_training_dir + \"prediction_\" + run_name + \"_\" + str(i+1) + \".png\")\n",
    "    oimg = get_prediction_with_overlay(train_preproc[i])\n",
    "    oimg.save(prediction_training_dir + \"overlay_\" + run_name + \"_\" + str(i+1) + \".png\")  "
   ]
  },
  {
   "cell_type": "code",
   "execution_count": 41,
   "metadata": {
    "collapsed": false
   },
   "outputs": [
    {
     "name": "stdout",
     "output_type": "stream",
     "text": [
      "Running prediction on validation set\n",
      "24.24\n",
      "31.52\n",
      "26.56\n",
      "26.92\n",
      "27.08\n",
      "19.6\n",
      "21.32\n",
      "14.56\n",
      "25.6\n",
      "21.68\n",
      "Mean: 23.908\n"
     ]
    }
   ],
   "source": [
    "print (\"Running prediction on validation set\")\n",
    "prediction_test_dir = \"predictions_training/\"\n",
    "if not os.path.isdir(prediction_test_dir):\n",
    "    os.mkdir(prediction_test_dir)\n",
    "\n",
    "test_preproc = load_preproc(test_dir)\n",
    "train_labels = extract_labels(train_labels_filename, TRAINING_SIZE+VALIDATION_SIZE)\n",
    "err = []\n",
    "for i in range(TRAINING_SIZE, TRAINING_SIZE+VALIDATION_SIZE):\n",
    "    pimg = get_prediction_with_groundtruth(train_preproc[i])\n",
    "    Image.fromarray(pimg).save(prediction_training_dir + \"prediction_\" + run_name + \"_\" + str(i+1) + \".png\")\n",
    "    oimg = get_prediction_with_overlay(train_preproc[i])\n",
    "    oimg.save(prediction_training_dir + \"overlay_\" + run_name + \"_\" + str(i+1) + \".png\")\n",
    "    img = train_preproc[i]\n",
    "    data = np.asarray(img_crop(img, IMG_PATCH_SIZE, IMG_PATCH_SIZE, True))\n",
    "    data = data[:,:,:,0:NUM_CHANNELS]\n",
    "    data_node = tf.constant(data)\n",
    "    output = tf.round(tf.nn.softmax(model(data_node)))\n",
    "    output_prediction = s.run(output)\n",
    "    error = cil.error_rate(output_prediction, train_labels[data.shape[0]*i:data.shape[0]*(i+1)])\n",
    "    print(error)\n",
    "    #print(output_prediction)\n",
    "    #print(train_labels[data.shape[0]*i:data.shape[0]*(i+1)])\n",
    "    err.append(error)\n",
    "print(\"Mean: \" + str(np.mean(err)))"
   ]
  },
  {
   "cell_type": "code",
   "execution_count": 33,
   "metadata": {
    "collapsed": false
   },
   "outputs": [
    {
     "data": {
      "text/plain": [
       "(2500, 2)"
      ]
     },
     "execution_count": 33,
     "metadata": {},
     "output_type": "execute_result"
    }
   ],
   "source": [
    "output_prediction.shape"
   ]
  },
  {
   "cell_type": "code",
   "execution_count": 34,
   "metadata": {
    "collapsed": false
   },
   "outputs": [
    {
     "data": {
      "text/plain": [
       "(2500, 2)"
      ]
     },
     "execution_count": 34,
     "metadata": {},
     "output_type": "execute_result"
    }
   ],
   "source": [
    "train_labels[data.shape[0]*i:data.shape[0]*(i+1)].shape"
   ]
  },
  {
   "cell_type": "code",
   "execution_count": 40,
   "metadata": {
    "collapsed": false,
    "scrolled": true
   },
   "outputs": [
    {
     "data": {
      "text/plain": [
       "(125000, 2)"
      ]
     },
     "execution_count": 40,
     "metadata": {},
     "output_type": "execute_result"
    }
   ],
   "source": [
    "train_labels.shape"
   ]
  },
  {
   "cell_type": "code",
   "execution_count": 36,
   "metadata": {
    "collapsed": true
   },
   "outputs": [],
   "source": [
    "img_prediction = cil.label_to_img(img.shape[0], img.shape[1], IMG_PATCH_SIZE, IMG_PATCH_SIZE, output_prediction)"
   ]
  },
  {
   "cell_type": "code",
   "execution_count": 37,
   "metadata": {
    "collapsed": false,
    "scrolled": true
   },
   "outputs": [
    {
     "ename": "NameError",
     "evalue": "name 'show' is not defined",
     "output_type": "error",
     "traceback": [
      "\u001b[1;31m---------------------------------------------------------------------------\u001b[0m",
      "\u001b[1;31mNameError\u001b[0m                                 Traceback (most recent call last)",
      "\u001b[1;32m<ipython-input-37-36aa53563242>\u001b[0m in \u001b[0;36m<module>\u001b[1;34m()\u001b[0m\n\u001b[1;32m----> 1\u001b[1;33m \u001b[0mshow\u001b[0m\u001b[1;33m(\u001b[0m\u001b[0mimg_prediction\u001b[0m\u001b[1;33m)\u001b[0m\u001b[1;33m\u001b[0m\u001b[0m\n\u001b[0m",
      "\u001b[1;31mNameError\u001b[0m: name 'show' is not defined"
     ]
    }
   ],
   "source": [
    "show(img_prediction)"
   ]
  },
  {
   "cell_type": "code",
   "execution_count": null,
   "metadata": {
    "collapsed": false
   },
   "outputs": [],
   "source": [
    "show(train_preproc[i,:,:,3])"
   ]
  },
  {
   "cell_type": "code",
   "execution_count": null,
   "metadata": {
    "collapsed": true
   },
   "outputs": [],
   "source": [
    "def show(chan):\n",
    "    chan = chan + chan.min()\n",
    "    chan = chan / chan.max()\n",
    "    img = (chan * 255).astype('uint8')\n",
    "    png = Image.fromarray(img)\n",
    "    png.show\n",
    "    return png"
   ]
  },
  {
   "cell_type": "code",
   "execution_count": null,
   "metadata": {
    "collapsed": true
   },
   "outputs": [],
   "source": []
  }
 ],
 "metadata": {
  "kernelspec": {
   "display_name": "venvlis",
   "language": "python",
   "name": "venvlis"
  },
  "language_info": {
   "codemirror_mode": {
    "name": "ipython",
    "version": 3
   },
   "file_extension": ".py",
   "mimetype": "text/x-python",
   "name": "python",
   "nbconvert_exporter": "python",
   "pygments_lexer": "ipython3",
   "version": "3.4.3"
  }
 },
 "nbformat": 4,
 "nbformat_minor": 0
}
