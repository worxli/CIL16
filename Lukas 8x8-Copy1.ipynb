{
 "cells": [
  {
   "cell_type": "code",
   "execution_count": 1,
   "metadata": {
    "collapsed": false
   },
   "outputs": [],
   "source": [
    "\"\"\"\n",
    "Baseline for CIL project on road segmentation.\n",
    "This simple baseline consits of a CNN with two convolutional+pooling layers with a soft-max loss\n",
    "\"\"\"\n",
    "\n",
    "import gzip\n",
    "import os\n",
    "import sys\n",
    "import urllib\n",
    "import matplotlib.image as mpimg\n",
    "from PIL import Image\n",
    "from random import shuffle\n",
    "import time\n",
    "\n",
    "import code\n",
    "\n",
    "import tensorflow.python.platform\n",
    "\n",
    "import numpy as np\n",
    "import tensorflow as tf\n",
    "\n",
    "import cil_helper as cil\n",
    "\n",
    "from skimage.feature import greycomatrix, greycoprops"
   ]
  },
  {
   "cell_type": "code",
   "execution_count": 2,
   "metadata": {
    "collapsed": false
   },
   "outputs": [],
   "source": [
    "try:\n",
    "    tf.app.flags.DEFINE_string('log_dir', '/tmp/tensorflow_lukas_balz',\n",
    "                           \"\"\"Directory where to write event logs \"\"\"\n",
    "                           \"\"\"and checkpoint.\"\"\")\n",
    "except: \n",
    "    print(tf.app.flags.FLAGS.log_dir)\n",
    "    \n",
    "FLAGS = tf.app.flags.FLAGS"
   ]
  },
  {
   "cell_type": "code",
   "execution_count": 3,
   "metadata": {
    "collapsed": true
   },
   "outputs": [],
   "source": [
    "TRAINING_SIZE = 50\n",
    "VALIDATION_SIZE = 10  # Size of the validation set.\n",
    "TEST_SIZE = 50\n",
    "SEED = 66478  # Set to None for random seed.\n",
    "BATCH_SIZE = 64 # 64\n",
    "NUM_EPOCHS = 50\n",
    "RESTORE_MODEL = False # If True, restore existing model instead of training a new one\n",
    "RECORDING_STEP = 200\n",
    "ERROR_STEP = 500\n",
    "\n",
    "# Set image patch size in pixels\n",
    "# IMG_PATCH_SIZE should be a multiple of 4\n",
    "# image size should be an integer multiple of this number!\n",
    "IMG_PATCH_SIZE = 16\n",
    "NUM_CHANNELS = 6\n",
    "\n",
    "# all prediction size\n",
    "ALL_PER = 500"
   ]
  },
  {
   "cell_type": "code",
   "execution_count": 4,
   "metadata": {
    "collapsed": true
   },
   "outputs": [],
   "source": [
    "data_dir = 'training/'\n",
    "train_data_filename = data_dir + 'images/'\n",
    "train_labels_filename = data_dir + 'groundtruth/' \n",
    "test_dir = \"test/\""
   ]
  },
  {
   "cell_type": "code",
   "execution_count": 5,
   "metadata": {
    "collapsed": true
   },
   "outputs": [],
   "source": [
    "# returns all train images in rgb\n",
    "def get_train_imgs():\n",
    "    imgs = []\n",
    "    for i in range(TRAINING_SIZE):\n",
    "        imageid = \"satImage_%.3d\" % (i+1)\n",
    "        image_filename = train_data_filename + imageid + \".png\"\n",
    "        if os.path.isfile(image_filename):\n",
    "            #print ('Loading ' + image_filename)\n",
    "            img = mpimg.imread(image_filename)\n",
    "            imgs.append(img)\n",
    "        else:\n",
    "            raise Exception('File ' + image_filename + ' does not exist')\n",
    "    return np.asarray(imgs)"
   ]
  },
  {
   "cell_type": "code",
   "execution_count": null,
   "metadata": {
    "collapsed": true
   },
   "outputs": [],
   "source": []
  },
  {
   "cell_type": "code",
   "execution_count": null,
   "metadata": {
    "collapsed": true
   },
   "outputs": [],
   "source": []
  },
  {
   "cell_type": "code",
   "execution_count": 6,
   "metadata": {
    "collapsed": true
   },
   "outputs": [],
   "source": [
    "def img_crop(im, w, h):\n",
    "    list_patches = []\n",
    "    imgwidth = im.shape[0]\n",
    "    imgheight = im.shape[1]\n",
    "    is_2d = len(im.shape) < 3\n",
    "    for i in range(0,imgheight,h):\n",
    "        for j in range(0,imgwidth,w):\n",
    "            if is_2d:\n",
    "                im_patch = im[j:j+w, i:i+h]\n",
    "            else:\n",
    "                im_patch = im[j:j+w, i:i+h, :]\n",
    "            list_patches.append(im_patch)\n",
    "            list_patches.append(np.rot90(im_patch))\n",
    "            list_patches.append(np.fliplr(im_patch))\n",
    "    return list_patches"
   ]
  },
  {
   "cell_type": "code",
   "execution_count": null,
   "metadata": {
    "collapsed": true
   },
   "outputs": [],
   "source": []
  },
  {
   "cell_type": "code",
   "execution_count": 7,
   "metadata": {
    "collapsed": true
   },
   "outputs": [],
   "source": [
    "# Extract label images\n",
    "def extract_labels(filename, num_images):\n",
    "    \"\"\"Extract the labels into a 1-hot matrix [image index, label index].\"\"\"\n",
    "    gt_imgs = []\n",
    "    for i in range(1, num_images+1):\n",
    "        imageid = \"satImage_%.3d\" % i\n",
    "        image_filename = filename + imageid + \".png\"\n",
    "        if os.path.isfile(image_filename):\n",
    "            #print ('Loading ' + image_filename)\n",
    "            img = mpimg.imread(image_filename)\n",
    "            gt_imgs.append(img)\n",
    "        else:\n",
    "            print ('File ' + image_filename + ' does not exist')\n",
    "\n",
    "    num_images = len(gt_imgs)\n",
    "    gt_patches = [img_crop(gt_imgs[i], IMG_PATCH_SIZE, IMG_PATCH_SIZE) for i in range(num_images)]\n",
    "    data = np.asarray([gt_patches[i][j] for i in range(len(gt_patches)) for j in range(len(gt_patches[i]))])\n",
    "    labels = np.asarray([value_to_class(np.mean(data[i])) for i in range(len(data))])\n",
    "\n",
    "    # Convert to dense 1-hot representation.\n",
    "    return labels.astype(np.float32)"
   ]
  },
  {
   "cell_type": "code",
   "execution_count": 8,
   "metadata": {
    "collapsed": false
   },
   "outputs": [],
   "source": [
    "def make_patches(imgs):\n",
    "    num_images = len(imgs)\n",
    "    IMG_WIDTH = imgs[0].shape[0]\n",
    "    IMG_HEIGHT = imgs[0].shape[1]\n",
    "    DIMS = 4\n",
    "    N_PATCHES_PER_IMAGE = (IMG_WIDTH/IMG_PATCH_SIZE)*(IMG_HEIGHT/IMG_PATCH_SIZE)\n",
    "\n",
    "    img_patches = [img_crop(imgs[i], IMG_PATCH_SIZE, IMG_PATCH_SIZE) for i in range(num_images)]\n",
    "    data = [img_patches[i][j] for i in range(len(img_patches)) for j in range(len(img_patches[i]))]\n",
    "\n",
    "    return np.asarray(data)"
   ]
  },
  {
   "cell_type": "code",
   "execution_count": null,
   "metadata": {
    "collapsed": true
   },
   "outputs": [],
   "source": []
  },
  {
   "cell_type": "code",
   "execution_count": 9,
   "metadata": {
    "collapsed": true
   },
   "outputs": [],
   "source": [
    "# Assign a label to a patch v\n",
    "def value_to_class(v):\n",
    "    foreground_threshold = 0.75 # percentage of pixels > 1 required to assign a foreground label to a patch\n",
    "    #ret#urn [1-v , v]\n",
    "    df = np.sum(v)\n",
    "    if df < foreground_threshold:\n",
    "       return [0, 1]\n",
    "    else:\n",
    "       return [1, 0]"
   ]
  },
  {
   "cell_type": "code",
   "execution_count": null,
   "metadata": {
    "collapsed": false
   },
   "outputs": [],
   "source": []
  },
  {
   "cell_type": "code",
   "execution_count": 10,
   "metadata": {
    "collapsed": true
   },
   "outputs": [],
   "source": [
    "def load_preproc(save_dir):\n",
    "    assert save_dir.endswith('/')\n",
    "    return np.load(save_dir + 'preprocessed2.npy')"
   ]
  },
  {
   "cell_type": "code",
   "execution_count": 11,
   "metadata": {
    "collapsed": false,
    "scrolled": true
   },
   "outputs": [],
   "source": [
    "train_preproc = load_preproc(train_data_filename)\n",
    "train_data = make_patches(train_preproc)\n",
    "\n",
    "train_labels = extract_labels(train_labels_filename, TRAINING_SIZE)"
   ]
  },
  {
   "cell_type": "code",
   "execution_count": 12,
   "metadata": {
    "collapsed": false
   },
   "outputs": [
    {
     "name": "stdout",
     "output_type": "stream",
     "text": [
      "(187500, 16, 16, 6)\n"
     ]
    }
   ],
   "source": [
    "print(train_data.shape)\n",
    "#NUM_CHANNELS = 3\n",
    "#train_data = train_data[:,:,:,0:NUM_CHANNELS]\n",
    "#print(train_data.shape)"
   ]
  },
  {
   "cell_type": "code",
   "execution_count": 13,
   "metadata": {
    "collapsed": false
   },
   "outputs": [
    {
     "name": "stdout",
     "output_type": "stream",
     "text": [
      "Number of data points per class: c0 = 9849 c1 = 83901\n"
     ]
    }
   ],
   "source": [
    "c0 = 0\n",
    "c1 = 0\n",
    "for i in range(len(train_labels)):\n",
    "    if train_labels[i][0] > 0.5:\n",
    "        c0 = c0 + 1 # foreground -> road\n",
    "    else:\n",
    "        c1 = c1 + 1 # background\n",
    "print ('Number of data points per class: c0 = ' + str(c0) + ' c1 = ' + str(c1))"
   ]
  },
  {
   "cell_type": "code",
   "execution_count": 14,
   "metadata": {
    "collapsed": true
   },
   "outputs": [],
   "source": [
    "sampling = False"
   ]
  },
  {
   "cell_type": "code",
   "execution_count": 15,
   "metadata": {
    "collapsed": false
   },
   "outputs": [
    {
     "name": "stdout",
     "output_type": "stream",
     "text": [
      "Balancing training data...\n",
      "19698\n",
      "(19698, 16, 16, 6)\n"
     ]
    }
   ],
   "source": [
    "print ('Balancing training data...')\n",
    "min_c = min(c0, c1)\n",
    "max_c = max(c0, c1)\n",
    "idx0 = [i for i, j in enumerate(train_labels) if j[0] == 1]\n",
    "idx1 = [i for i, j in enumerate(train_labels) if j[1] == 1]\n",
    "\n",
    "if sampling: #sample smaller class\n",
    "    if c0 < c1:\n",
    "        while len(idx0) < c1:\n",
    "            print(len(idx0))\n",
    "            idx0.extend(idx0)\n",
    "            print(len(idx0))\n",
    "    else:\n",
    "        while len(idx1)<c0:\n",
    "            idx1.extend(idx1)\n",
    "    lim = max_c\n",
    "else: \n",
    "    lim = min_c\n",
    "    \n",
    "new_indices = idx0[0:lim] + idx1[0:lim]\n",
    "train_data = train_data[new_indices,:,:,:]\n",
    "train_labels = train_labels[new_indices]\n",
    "    \n",
    "print(len(new_indices))\n",
    "print(train_data.shape)"
   ]
  },
  {
   "cell_type": "code",
   "execution_count": 16,
   "metadata": {
    "collapsed": true
   },
   "outputs": [],
   "source": [
    "train_size = train_labels.shape[0]"
   ]
  },
  {
   "cell_type": "code",
   "execution_count": 17,
   "metadata": {
    "collapsed": false
   },
   "outputs": [],
   "source": [
    "# This is where training samples and labels are fed to the graph.\n",
    "# These placeholder nodes will be fed a batch of training data at each\n",
    "# training step using the {feed_dict} argument to the Run() call below.\n",
    "train_data_node = tf.placeholder(\n",
    "    tf.float32,\n",
    "    shape=(BATCH_SIZE, IMG_PATCH_SIZE, IMG_PATCH_SIZE, NUM_CHANNELS),\n",
    "    name='train_data')\n",
    "train_labels_node = tf.placeholder(\n",
    "    tf.float32,\n",
    "    shape=(BATCH_SIZE, cil.NUM_LABELS),\n",
    "    name='train_labels')\n",
    "train_all_data_node = tf.constant(train_data)"
   ]
  },
  {
   "cell_type": "code",
   "execution_count": 18,
   "metadata": {
    "collapsed": false
   },
   "outputs": [],
   "source": [
    "# The variables below hold all the trainable weights. They are passed an\n",
    "# initial value which will be assigned when when we call:\n",
    "# {tf.initialize_all_variables().run()}\n",
    "conv1_weights = cil.weight_variable([3, 3, NUM_CHANNELS, 64])\n",
    "conv1_biases = cil.bias_variable([64])\n",
    "\n",
    "conv2_weights = cil.weight_variable([3, 3, 64, 128])\n",
    "conv2_biases = cil.bias_variable([128])\n",
    "\n",
    "conv3_weights = cil.weight_variable([3, 3, 128, 256])\n",
    "conv3_biases = cil.bias_variable([256])\n",
    "\n",
    "conv4_weights = cil.weight_variable([3, 3, 256, 512])\n",
    "conv4_biases = cil.bias_variable([512])\n",
    "\n",
    "fc1_weights = tf.Variable(  # fully connected, depth 512.\n",
    "    tf.truncated_normal([2048, 4096],\n",
    "                        stddev=0.05,\n",
    "                        seed=SEED))\n",
    "fc1_biases = tf.Variable(tf.constant(0.1, shape=[4096]))\n",
    "fc2_weights = tf.Variable(\n",
    "    tf.truncated_normal([4096, cil.NUM_LABELS],\n",
    "                        stddev=0.1,\n",
    "                        seed=SEED))\n",
    "fc2_biases = tf.Variable(tf.constant(0.1, shape=[cil.NUM_LABELS]))\n",
    "conv1_weights_hist = tf.histogram_summary(\"conv1_weights\", conv1_weights)\n",
    "conv2_weights_hist = tf.histogram_summary(\"conv2_weights\", conv2_weights)\n",
    "conv1_biases_hist = tf.histogram_summary(\"conv1_biases\", conv1_biases)\n",
    "conv2_biases_hist = tf.histogram_summary(\"conv2_biases\", conv2_biases)\n",
    "fc1_weights_hist = tf.histogram_summary(\"fc1_weights\", fc1_weights)\n",
    "fc1_biases_hist = tf.histogram_summary(\"fc1_biases\", fc1_biases)\n",
    "fc2_weights_hist = tf.histogram_summary(\"fc2_weights\", fc2_weights)\n",
    "fc2_biases_hist = tf.histogram_summary(\"fc2_biases\", fc2_biases)"
   ]
  },
  {
   "cell_type": "code",
   "execution_count": 19,
   "metadata": {
    "collapsed": false
   },
   "outputs": [],
   "source": [
    "# We will replicate the model structure for the training subgraph, as well\n",
    "# as the evaluation subgraphs, while sharing the trainable parameters.\n",
    "def model(data, train=False):\n",
    "    \"\"\"The Model definition.\"\"\"\n",
    "    conv = cil.conv2d(data, conv1_weights)\n",
    "    relu = tf.nn.relu(tf.nn.bias_add(conv, conv1_biases))\n",
    "    pool = cil.max_pool_2x2(relu)\n",
    "\n",
    "    conv2 = cil.conv2d(pool, conv2_weights)\n",
    "    relu2 = tf.nn.relu(tf.nn.bias_add(conv2, conv2_biases))\n",
    "    pool2 = cil.avg_pool_2x2(relu2)\n",
    "    \n",
    "    conv3 = cil.conv2d(pool2, conv3_weights)\n",
    "    relu3 = tf.nn.relu(tf.nn.bias_add(conv3, conv3_biases))\n",
    "    #pool3 = cil.max_pool_2x2(relu3)\n",
    "    \n",
    "    conv4 = cil.conv2d(relu3, conv4_weights)\n",
    "    relu4 = tf.nn.relu(tf.nn.bias_add(conv4, conv4_biases))\n",
    "    pool4 = cil.max_pool_2x2(relu4)\n",
    "\n",
    "    # Reshape the feature map cuboid into a 2D matrix to feed it to the\n",
    "    # fully connected layers.\n",
    "    pool_shape = pool4.get_shape().as_list()\n",
    "    reshape = tf.reshape(\n",
    "        pool4,\n",
    "        [pool_shape[0], pool_shape[1] * pool_shape[2] * pool_shape[3]])\n",
    "    # Fully connected layer. Note that the '+' operation automatically\n",
    "    # broadcasts the biases.\n",
    "    \n",
    "    #print(pool4.get_shape())\n",
    "    #print(reshape.get_shape())\n",
    "    #print(fc1_weights.get_shape())\n",
    "    \n",
    "    fc1 = tf.nn.relu(tf.matmul(reshape, fc1_weights) + fc1_biases)\n",
    "    if train:\n",
    "        fc1 = tf.nn.dropout(fc1, 0.7, seed=SEED)\n",
    "    fc2 = tf.matmul(fc1, fc2_weights) + fc2_biases\n",
    "\n",
    "    return fc2"
   ]
  },
  {
   "cell_type": "code",
   "execution_count": 20,
   "metadata": {
    "collapsed": false
   },
   "outputs": [],
   "source": [
    "# Training computation: logits + cross-entropy loss.\n",
    "logits = model(train_data_node, True) # BATCH_SIZE*NUM_LABELS\n",
    "# print 'logits = ' + str(logits.get_shape()) + ' train_labels_node = ' + str(train_labels_node.get_shape())\n",
    "loss = tf.reduce_mean(tf.nn.softmax_cross_entropy_with_logits(\n",
    "    logits, train_labels_node))\n",
    "#loss = tf.reduce_mean(tf.square(logits - train_labels_node))\n",
    "loss_summary = tf.scalar_summary('loss', loss)"
   ]
  },
  {
   "cell_type": "code",
   "execution_count": 21,
   "metadata": {
    "collapsed": false
   },
   "outputs": [],
   "source": [
    "all_params_node = [conv1_weights, conv1_biases, conv2_weights, conv2_biases, fc1_weights, fc1_biases, fc2_weights, fc2_biases]\n",
    "all_params_names = ['conv1_weights', 'conv1_biases', 'conv2_weights', 'conv2_biases', 'fc1_weights', 'fc1_biases', 'fc2_weights', 'fc2_biases']\n",
    "all_grads_node = tf.gradients(loss, all_params_node)\n",
    "all_grad_norms_node = []\n",
    "for i in range(0, len(all_grads_node)):\n",
    "    norm_grad_i = tf.global_norm([all_grads_node[i]])\n",
    "    all_grad_norms_node.append(norm_grad_i)\n",
    "    all_params_summary = tf.scalar_summary(all_params_names[i], norm_grad_i)"
   ]
  },
  {
   "cell_type": "code",
   "execution_count": 22,
   "metadata": {
    "collapsed": false
   },
   "outputs": [],
   "source": [
    "# L2 regularization for the fully connected parameters.\n",
    "regularizers = (tf.nn.l2_loss(fc1_weights) + tf.nn.l2_loss(fc1_biases) +\n",
    "                tf.nn.l2_loss(fc2_weights) + tf.nn.l2_loss(fc2_biases))\n",
    "# Add the regularization term to the loss.\n",
    "loss += 5e-4 * regularizers"
   ]
  },
  {
   "cell_type": "code",
   "execution_count": 23,
   "metadata": {
    "collapsed": false
   },
   "outputs": [],
   "source": [
    "# Optimizer: set up a variable that's incremented once per batch and\n",
    "# controls the learning rate decay.\n",
    "batch = tf.Variable(0)\n",
    "# Decay once per epoch, using an exponential schedule starting at 0.01.\n",
    "learning_rate = tf.train.exponential_decay(\n",
    "    0.01,                # Base learning rate.\n",
    "    batch * BATCH_SIZE,  # Current index into the dataset.\n",
    "    train_size,          # Decay step.\n",
    "    0.95,                # Decay rate.\n",
    "    staircase=True)\n",
    "learning_rate_summary = tf.scalar_summary('learning_rate', learning_rate)"
   ]
  },
  {
   "cell_type": "code",
   "execution_count": 24,
   "metadata": {
    "collapsed": false
   },
   "outputs": [],
   "source": [
    "# Use simple momentum for the optimization.\n",
    "#optimizer = tf.train.MomentumOptimizer(learning_rate, 0.9).minimize(loss, global_step=batch)\n",
    "\n",
    "# try adam\n",
    "optimizer = tf.train.AdamOptimizer(learning_rate).minimize(loss, global_step=batch)\n",
    "\n",
    "#optimizer = tf.train.AdadeltaOptimizer(learning_rate).minimize(loss)"
   ]
  },
  {
   "cell_type": "code",
   "execution_count": 25,
   "metadata": {
    "collapsed": false
   },
   "outputs": [],
   "source": [
    "# Predictions for the minibatch, validation set and test set.\n",
    "train_prediction = tf.nn.softmax(logits)\n",
    "# We'll compute them only once in a while by calling their {eval()} method.\n",
    "train_all_prediction = tf.nn.softmax(model(train_all_data_node[0:ALL_PER,:,:,:]))\n",
    "\n",
    "# Add ops to save and restore all the variables.\n",
    "saver = tf.train.Saver()"
   ]
  },
  {
   "cell_type": "code",
   "execution_count": 26,
   "metadata": {
    "collapsed": false
   },
   "outputs": [],
   "source": [
    "s = tf.InteractiveSession()"
   ]
  },
  {
   "cell_type": "code",
   "execution_count": 27,
   "metadata": {
    "collapsed": true
   },
   "outputs": [],
   "source": [
    "# Get prediction overlaid on the original image for given input image\n",
    "def get_prediction_with_overlay(img):\n",
    "    \n",
    "    img_prediction = get_prediction(img)\n",
    "    oimg = cil.make_img_overlay(img[:,:,:3], img_prediction)\n",
    "\n",
    "    return oimg\n",
    "\n",
    "# Get a concatenation of the prediction and groundtruth for given input file\n",
    "def get_prediction_with_groundtruth(img):\n",
    "    \n",
    "    img_prediction = get_prediction(img)\n",
    "    cimg = cil.concatenate_images(img[:,:,:3], img_prediction)\n",
    "\n",
    "    return cimg\n",
    "\n",
    "# Get prediction for given input image \n",
    "def get_prediction(img):\n",
    "    data = np.asarray(cil.img_crop(img, IMG_PATCH_SIZE, IMG_PATCH_SIZE))\n",
    "    data = data[:,:,:,0:NUM_CHANNELS]\n",
    "    data_node = tf.constant(data)\n",
    "    output = tf.nn.softmax(model(data_node))\n",
    "    output_prediction = s.run(output)\n",
    "    img_prediction = cil.label_to_img(img.shape[0], img.shape[1], IMG_PATCH_SIZE, IMG_PATCH_SIZE, output_prediction)\n",
    "\n",
    "    return img_prediction"
   ]
  },
  {
   "cell_type": "code",
   "execution_count": 28,
   "metadata": {
    "collapsed": false
   },
   "outputs": [],
   "source": [
    "if RESTORE_MODEL:\n",
    "    # Restore variables from disk.\n",
    "    saver.restore(FLAGS.train_dir + \"/model.ckpt\")\n",
    "    print(\"Model restored.\")"
   ]
  },
  {
   "cell_type": "code",
   "execution_count": null,
   "metadata": {
    "collapsed": false
   },
   "outputs": [
    {
     "name": "stdout",
     "output_type": "stream",
     "text": [
      "Initialized!\n"
     ]
    }
   ],
   "source": [
    "# Run all the initializers to prepare the trainable parameters.\n",
    "tf.initialize_all_variables().run()\n",
    "\n",
    "# Build the summary operation based on the TF collection of Summaries.\n",
    "summary_op = tf.merge_summary([loss_summary, learning_rate_summary, all_params_summary, conv1_weights_hist, conv2_weights_hist])\n",
    "summary_writer = tf.train.SummaryWriter(FLAGS.log_dir,\n",
    "                                                graph=s.graph)\n",
    "print ('Initialized!')"
   ]
  },
  {
   "cell_type": "code",
   "execution_count": null,
   "metadata": {
    "collapsed": false,
    "scrolled": true
   },
   "outputs": [
    {
     "name": "stdout",
     "output_type": "stream",
     "text": [
      "Total number of iterations = 15389\n",
      "step 0, error: 88.2% (0.896 sec/batch)\n"
     ]
    }
   ],
   "source": [
    "# Loop through training steps.\n",
    "print ('Total number of iterations = ' + str(int(NUM_EPOCHS * train_size / BATCH_SIZE)))\n",
    "\n",
    "training_indices = range(train_size)\n",
    "\n",
    "for iepoch in range(NUM_EPOCHS):\n",
    "\n",
    "    # Permute training indices\n",
    "    perm_indices = np.random.permutation(training_indices)\n",
    "\n",
    "    for step in range (int(train_size / BATCH_SIZE)):\n",
    "\n",
    "        offset = (step * BATCH_SIZE) % (train_size - BATCH_SIZE)\n",
    "        batch_indices = perm_indices[offset:(offset + BATCH_SIZE)]\n",
    "\n",
    "        # Compute the offset of the current minibatch in the data.\n",
    "        # Note that we could use better randomization across epochs.\n",
    "        batch_data = train_data[batch_indices, :, :, :]\n",
    "        batch_labels = train_labels[batch_indices]\n",
    "        \n",
    "        #print('batch_data.shape = ' + str(batch_data.shape))\n",
    "        # This dictionary maps the batch data (as a numpy array) to the\n",
    "        # node in the graph is should be fed to.\n",
    "        feed_dict = {train_data_node: batch_data, train_labels_node: batch_labels}\n",
    "\n",
    "        stepNr = step + iepoch*int(train_size / BATCH_SIZE)\n",
    "\n",
    "        if stepNr % ERROR_STEP == 0:\n",
    "            start_time = time.time()\n",
    "            l, lr, all_predictions = s.run(\n",
    "                        [loss, learning_rate, train_all_prediction],\n",
    "                        feed_dict=feed_dict)\n",
    "            \n",
    "            duration = time.time() - start_time\n",
    "            #print ('Minibatch loss: %.3f, learning rate: %.6f' % (l, lr))\n",
    "            #print ('Minibatch error: %.1f%%' % cil.error_rate(predictions,\n",
    "                                                              #   batch_labels))\n",
    "            loss_value = cil.error_rate(all_predictions, train_labels[:ALL_PER,:])\n",
    "            \n",
    "            format_str = ('step %d, error: %.1f%% (%.3f sec/batch)')\n",
    "            print (format_str % (stepNr, loss_value, duration)) \n",
    "        elif stepNr % RECORDING_STEP == 0:\n",
    "            \n",
    "            start_time = time.time()\n",
    "            l, lr, all_predictions = s.run(\n",
    "                        [loss, learning_rate, train_prediction],\n",
    "                        feed_dict=feed_dict)\n",
    "            \n",
    "            duration = time.time() - start_time\n",
    "            #print ('Minibatch loss: %.3f, learning rate: %.6f' % (l, lr))\n",
    "            #print ('Minibatch error: %.1f%%' % cil.error_rate(predictions,\n",
    "                                                              #   batch_labels))\n",
    "            loss_value = cil.error_rate(predictions, batch_labels)\n",
    "            \n",
    "            format_str = ('step %d, batch error: %.1f%% (%.3f sec/batch)')\n",
    "            print (format_str % (stepNr, loss_value, duration)) \n",
    "        else:\n",
    "            # Run the graph and fetch some of the nodes.\n",
    "            _, l, lr, predictions = s.run(\n",
    "                        [optimizer, loss, learning_rate, train_prediction],\n",
    "                        feed_dict=feed_dict)"
   ]
  },
  {
   "cell_type": "code",
   "execution_count": null,
   "metadata": {
    "collapsed": false
   },
   "outputs": [],
   "source": [
    "save_path = saver.save(s, FLAGS.train_dir + \"/model8.ckpt\")"
   ]
  },
  {
   "cell_type": "code",
   "execution_count": null,
   "metadata": {
    "collapsed": false
   },
   "outputs": [],
   "source": [
    "print (\"Running prediction on training set\")\n",
    "prediction_training_dir = \"predictions_training/\"\n",
    "if not os.path.isdir(prediction_training_dir):\n",
    "    os.mkdir(prediction_training_dir)\n",
    "    \n",
    "for i in range(TRAINING_SIZE):\n",
    "    pimg = get_prediction_with_groundtruth(train_preproc[i])\n",
    "    Image.fromarray(pimg).save(prediction_training_dir + \"prediction8_\" + str(i+1) + \".png\")\n",
    "    oimg = get_prediction_with_overlay(train_preproc[i])\n",
    "    oimg.save(prediction_training_dir + \"overlay8_\" + str(i+1) + \".png\")  \n",
    "print(\"Done predicting training data\")"
   ]
  },
  {
   "cell_type": "code",
   "execution_count": null,
   "metadata": {
    "collapsed": false
   },
   "outputs": [],
   "source": [
    "print (\"Running prediction on test set\")\n",
    "prediction_test_dir = \"predictions_test/\"\n",
    "if not os.path.isdir(prediction_test_dir):\n",
    "    os.mkdir(prediction_test_dir)\n",
    "\n",
    "test_preproc = load_preproc(test_dir)\n",
    "for i in range(TEST_SIZE):\n",
    "    pred = get_prediction(test_preproc[i])\n",
    "    pimg = cil.img_float_to_uint8(pred)\n",
    "    Image.fromarray(pimg).save(prediction_test_dir + \"prediction8_\" + str(i+1) + \".png\")\n",
    "    oimg = cil.make_img_overlay(test_preproc[i], pred)\n",
    "    oimg.save(prediction_test_dir + \"overlay8_\" + str(i+1) + \".png\")\n",
    "print(\"Done predicting test data\")"
   ]
  },
  {
   "cell_type": "code",
   "execution_count": null,
   "metadata": {
    "collapsed": true
   },
   "outputs": [],
   "source": [
    "import re\n",
    "th = 0.25"
   ]
  },
  {
   "cell_type": "code",
   "execution_count": null,
   "metadata": {
    "collapsed": false
   },
   "outputs": [],
   "source": [
    "# assign a label to a patch\n",
    "def patch_to_label(patch):\n",
    "    df = np.mean(patch)\n",
    "    if df > th:\n",
    "        return 1\n",
    "    else:\n",
    "        return 0\n",
    "\n",
    "\n",
    "def mask_to_submission_strings(image_filename):\n",
    "    \"\"\"Reads a single image and outputs the strings that should go into the submission file\"\"\"\n",
    "    reg = re.search(r\"\\_\\d+\", image_filename)\n",
    "    group = reg.group(0)[1:]\n",
    "    img_number = int(group)\n",
    "    im = mpimg.imread(image_filename)\n",
    "    patch_size = 16\n",
    "    for j in range(0, im.shape[1], patch_size):\n",
    "        for i in range(0, im.shape[0], patch_size):\n",
    "            patch = im[i:i + patch_size, j:j + patch_size]\n",
    "            label = patch_to_label(patch)\n",
    "            yield(\"{:03d}_{}_{},{}\".format(img_number, j, i, label))\n",
    "\n",
    "\n",
    "def masks_to_submission(submission_filename, *image_filenames):\n",
    "    \"\"\"Converts images into a submission file\"\"\"\n",
    "    with open(submission_filename, 'w') as f:\n",
    "        f.write('id,prediction\\n')\n",
    "        for fn in image_filenames[0:]:\n",
    "            f.writelines('{}\\n'.format(s) for s in mask_to_submission_strings(fn))\n",
    "\n",
    "\n",
    "def save(submission_filename):\n",
    "    #subm#ission_filename = 'submission_07.csv'\n",
    "    image_filenames = []\n",
    "    for i in range(1, 51):\n",
    "        imagename = 'prediction8_' + str(i)\n",
    "        image_filename = 'predictions_test/' + imagename + '.png'\n",
    "        print(image_filename)\n",
    "        image_filenames.append(image_filename)\n",
    "    masks_to_submission(submission_filename, *image_filenames)\n",
    "    \n",
    "save('submission_lukas_8x8.csv')"
   ]
  },
  {
   "cell_type": "code",
   "execution_count": null,
   "metadata": {
    "collapsed": true
   },
   "outputs": [],
   "source": []
  },
  {
   "cell_type": "code",
   "execution_count": null,
   "metadata": {
    "collapsed": true
   },
   "outputs": [],
   "source": []
  }
 ],
 "metadata": {
  "kernelspec": {
   "display_name": "venvlis",
   "language": "python",
   "name": "venvlis"
  },
  "language_info": {
   "codemirror_mode": {
    "name": "ipython",
    "version": 3
   },
   "file_extension": ".py",
   "mimetype": "text/x-python",
   "name": "python",
   "nbconvert_exporter": "python",
   "pygments_lexer": "ipython3",
   "version": "3.4.3"
  }
 },
 "nbformat": 4,
 "nbformat_minor": 0
}
