{
 "cells": [
  {
   "cell_type": "code",
   "execution_count": 3,
   "metadata": {
    "collapsed": true
   },
   "outputs": [],
   "source": [
    "import gzip\n",
    "import os\n",
    "import sys\n",
    "import urllib\n",
    "import matplotlib.image as mpimg\n",
    "from PIL import Image\n",
    "import numpy as np\n",
    "\n",
    "import code\n",
    "\n",
    "import tensorflow.python.platform\n",
    "\n",
    "import numpy\n",
    "import tensorflow as tf\n",
    "\n",
    "import cil_helper as cil"
   ]
  },
  {
   "cell_type": "code",
   "execution_count": 4,
   "metadata": {
    "collapsed": false
   },
   "outputs": [],
   "source": [
    "try:\n",
    "    tf.app.flags.DEFINE_string('log_dir', '/tmp/lukas_self',\n",
    "                           \"\"\"Directory where to write event logs \"\"\"\n",
    "                           \"\"\"and checkpoint.\"\"\")\n",
    "except: \n",
    "    print(tf.app.flags.FLAGS.log_dir)\n",
    "    \n",
    "FLAGS = tf.app.flags.FLAGS\n",
    "TRAINING_SIZE = 20\n",
    "VALIDATION_SIZE = 5  # Size of the validation set.\n",
    "TEST_SIZE = 50\n",
    "SEED = None  # Set to None for random seed.\n",
    "RESTORE_MODEL = False # If True, restore existing model instead of training a new one"
   ]
  },
  {
   "cell_type": "code",
   "execution_count": 5,
   "metadata": {
    "collapsed": true
   },
   "outputs": [],
   "source": [
    "BATCH_SIZE = 20 # 64\n",
    "NUM_EPOCHS = 4\n",
    "RECORDING_STEP = 100\n",
    "IMG_PATCH_SIZE = 16\n",
    "NUM_CHANNELS = 3\n",
    "NUM_LABELS = 2\n",
    "DROPOUT = 0.75"
   ]
  },
  {
   "cell_type": "code",
   "execution_count": 6,
   "metadata": {
    "collapsed": true
   },
   "outputs": [],
   "source": [
    "def extract_data(filename, num_images, extra_channels=0):\n",
    "    \"\"\"Extract the images into a 4D tensor [image index, y, x, channels].\n",
    "    Values are rescaled from [0, 255] down to [-0.5, 0.5].\n",
    "    \"\"\"\n",
    "    imgs = []\n",
    "    for i in range(1, num_images+1):\n",
    "        imageid = \"satImage_%.3d\" % i\n",
    "        image_filename = filename + imageid + \".png\"\n",
    "        if os.path.isfile(image_filename):\n",
    "            #print ('Loading ' + image_filename)\n",
    "            img = mpimg.imread(image_filename)\n",
    "            #img = preprocess(img)\n",
    "            imgs.append(img)\n",
    "        else:\n",
    "            print ('File ' + image_filename + ' does not exist')\n",
    "\n",
    "    num_images = len(imgs)\n",
    "    IMG_WIDTH = imgs[0].shape[0]\n",
    "    IMG_HEIGHT = imgs[0].shape[1]\n",
    "    N_PATCHES_PER_IMAGE = (IMG_WIDTH/IMG_PATCH_SIZE)*(IMG_HEIGHT/IMG_PATCH_SIZE)\n",
    "\n",
    "    img_patches = [cil.img_crop(imgs[i], IMG_PATCH_SIZE, IMG_PATCH_SIZE) for i in range(num_images)]\n",
    "    data = [img_patches[i][j] for i in range(len(img_patches)) for j in range(len(img_patches[i]))]\n",
    "\n",
    "    return numpy.asarray(data)\n",
    "\n",
    "# Extract label images\n",
    "def extract_labels(filename, num_images):\n",
    "    \"\"\"Extract the labels into a 1-hot matrix [image index, label index].\"\"\"\n",
    "    gt_imgs = []\n",
    "    for i in range(1, num_images+1):\n",
    "        imageid = \"satImage_%.3d\" % i\n",
    "        image_filename = filename + imageid + \".png\"\n",
    "        if os.path.isfile(image_filename):\n",
    "            #print ('Loading ' + image_filename)\n",
    "            img = mpimg.imread(image_filename)\n",
    "            gt_imgs.append(img)\n",
    "        else:\n",
    "            print ('File ' + image_filename + ' does not exist')\n",
    "            \n",
    "    num_images = len(gt_imgs)\n",
    "    gt_patches = [cil.img_crop(gt_imgs[i], IMG_PATCH_SIZE, IMG_PATCH_SIZE) for i in range(num_images)]\n",
    "    data = numpy.asarray([gt_patches[i][j] for i in range(len(gt_patches)) for j in range(len(gt_patches[i]))])\n",
    "    labels = numpy.asarray([cil.value_to_class(numpy.mean(data[i])) for i in range(len(data))])\n",
    "\n",
    "    # Convert to dense 1-hot representation.\n",
    "    return labels.astype(numpy.float32)"
   ]
  },
  {
   "cell_type": "code",
   "execution_count": 7,
   "metadata": {
    "collapsed": true
   },
   "outputs": [],
   "source": [
    "# returns a numpy array [Saturation, Lightness] of a pixel\n",
    "def sat_light(rgb):\n",
    "    Cmax = rgb.max()\n",
    "    Cmin = rgb.min()\n",
    "    d = Cmax - Cmin\n",
    "    L = (Cmax + Cmin + 1) / 2\n",
    "    S = d / (1 - (abs(2 * L - 1))) - .5\n",
    "    if np.isnan(S):\n",
    "        S = 0\n",
    "    return np.asarray([S, L-.5], dtype=np.float32)\n",
    "\n",
    "max_offset = 2 #feel free to change\n",
    "LIGHTNESS_LEVELS = 8\n",
    "LIGHTNESS_IDX = 4\n",
    "#returns [contrast, correlation, energy, homogeneity]\n",
    "def texture_features(image, y, x):\n",
    "    ylow = max(0, y-max_offset)\n",
    "    yhi = min(image.shape[0], y+max_offset+1)\n",
    "    xlow = max(0, x-max_offset)\n",
    "    xhi = min(image.shape[1], x+max_offset+1)\n",
    "    #print([ylow,yhi,xlow,xhi])\n",
    "    window = ((image[ylow:yhi, xlow:xhi, LIGHTNESS_IDX] + .5) * LIGHTNESS_LEVELS).astype(np.uint8)\n",
    "    print(window)\n",
    "    glcm = greycomatrix(window, [i for i in range(1,max_offset)], [0, np.pi/2], levels=LIGHTNESS_LEVELS, normed=True)\n",
    "    contrast = greycoprops(glcm, 'contrast').mean()\n",
    "    correlation = greycoprops(glcm, 'correlation').mean()\n",
    "    energy = greycoprops(glcm, 'energy').mean()\n",
    "    homogeneity = greycoprops(glcm, 'homogeneity').mean()\n",
    "    #dissimilarity = greycoprops(glcm, 'dissimilarity').mean()\n",
    "    return np.asarray([contrast, correlation*.5, energy-.5, homogeneity-.5], dtype=np.float32)"
   ]
  },
  {
   "cell_type": "code",
   "execution_count": 8,
   "metadata": {
    "collapsed": true
   },
   "outputs": [],
   "source": [
    "#NUM_CHANNELS = 9 # RGB, Saturation, Lightness, Texture\n",
    "def preprocess(img):\n",
    "    print('i was called')\n",
    "    img = np.asarray([[\n",
    "                    np.append(px, sat_light(px))\n",
    "                    for px in y] for y in img], dtype=np.float32)\n",
    "    return np.asarray([[\n",
    "                    np.append(img[y,x], texture_features(img,y,x))\n",
    "                    for x in range(len(img[y]))] for y in range(len(img))], dtype=np.float32)"
   ]
  },
  {
   "cell_type": "code",
   "execution_count": 9,
   "metadata": {
    "collapsed": false
   },
   "outputs": [
    {
     "name": "stdout",
     "output_type": "stream",
     "text": [
      "(12500, 16, 16, 3)\n",
      "(12500, 2)\n"
     ]
    }
   ],
   "source": [
    "data_dir = 'training/'\n",
    "train_data_filename = data_dir + 'images/'\n",
    "train_labels_filename = data_dir + 'groundtruth/' \n",
    "\n",
    "# Extract it into numpy arrays.\n",
    "train_data = extract_data(train_data_filename, TRAINING_SIZE)\n",
    "train_labels = extract_labels(train_labels_filename, TRAINING_SIZE)\n",
    "print(train_data.shape)\n",
    "print(train_labels.shape)"
   ]
  },
  {
   "cell_type": "code",
   "execution_count": null,
   "metadata": {
    "collapsed": true
   },
   "outputs": [],
   "source": []
  },
  {
   "cell_type": "code",
   "execution_count": 10,
   "metadata": {
    "collapsed": false
   },
   "outputs": [
    {
     "name": "stdout",
     "output_type": "stream",
     "text": [
      "Number of data points per class: c0 = 9450 c1 = 3050\n"
     ]
    }
   ],
   "source": [
    "c0 = 0\n",
    "c1 = 0\n",
    "for i in range(len(train_labels)):\n",
    "    if train_labels[i][0] == 1:\n",
    "        c0 = c0 + 1\n",
    "    else:\n",
    "        c1 = c1 + 1\n",
    "print ('Number of data points per class: c0 = ' + str(c0) + ' c1 = ' + str(c1))"
   ]
  },
  {
   "cell_type": "code",
   "execution_count": 11,
   "metadata": {
    "collapsed": false
   },
   "outputs": [
    {
     "name": "stdout",
     "output_type": "stream",
     "text": [
      "(12500, 16, 16, 3)\n",
      "(12500, 2)\n"
     ]
    }
   ],
   "source": [
    "balancing = False\n",
    "if balancing:\n",
    "    print ('Balancing training data...')\n",
    "    min_c = min(c0, c1)\n",
    "    idx0 = [i for i, j in enumerate(train_labels) if j[0] == 1]\n",
    "    idx1 = [i for i, j in enumerate(train_labels) if j[1] == 1]\n",
    "    new_indices = idx0[0:min_c] + idx1[0:min_c]\n",
    "    print (len(new_indices))\n",
    "    print (train_data.shape)\n",
    "    train_data = train_data[new_indices,:,:,:]\n",
    "    train_labels = train_labels[new_indices]\n",
    "\n",
    "train_size = train_labels.shape[0]\n",
    "print(train_data.shape)\n",
    "print(train_labels.shape)"
   ]
  },
  {
   "cell_type": "code",
   "execution_count": 12,
   "metadata": {
    "collapsed": false
   },
   "outputs": [],
   "source": [
    "# This is where training samples and labels are fed to the graph.\n",
    "# These placeholder nodes will be fed a batch of training data at each\n",
    "# training step using the {feed_dict} argument to the Run() call below.\n",
    "x = train_data_node = tf.placeholder(\n",
    "    tf.float32,\n",
    "    shape=(BATCH_SIZE, IMG_PATCH_SIZE, IMG_PATCH_SIZE, NUM_CHANNELS),\n",
    "    name='train_data')\n",
    "y = train_labels_node = tf.placeholder(\n",
    "    tf.float32,\n",
    "    shape=(BATCH_SIZE, NUM_LABELS),\n",
    "    name='train_labels')\n",
    "#x = train_data_node = tf.placeholder(tf.float32, [None, IMG_PATCH_SIZE, IMG_PATCH_SIZE, IMG_PATCH_SIZE], name='train_data')\n",
    "#y = train_labels_node = tf.placeholder(tf.float32, [None, NUM_LABELS], name='train_labels')\n",
    "keep_prob = tf.placeholder(tf.float32) #dropout (keep probability)\n",
    "train_all_data_node = tf.constant(train_data)"
   ]
  },
  {
   "cell_type": "code",
   "execution_count": 13,
   "metadata": {
    "collapsed": false
   },
   "outputs": [],
   "source": [
    "# We will replicate the model structure for the training subgraph, as well\n",
    "# as the evaluation subgraphs, while sharing the trainable parameters.\n",
    "def model(data, train=False):\n",
    "    \"\"\"The Model definition.\"\"\"\n",
    "    conv1_weights = cil.weight_variable([14, 14, NUM_CHANNELS, 40])\n",
    "    conv1_biases = cil.bias_variable([40])\n",
    "\n",
    "    conv = cil.conv2d(data, conv1_weights)\n",
    "    relu = tf.nn.relu(tf.nn.bias_add(conv, conv1_biases))\n",
    "    pool = cil.max_pool_2x2(relu)\n",
    "\n",
    "    conv2_weights = cil.weight_variable([8, 8, 40, 120])\n",
    "    conv2_biases = cil.bias_variable([120])\n",
    "\n",
    "    conv2 = cil.conv2d(pool, conv2_weights)\n",
    "    relu2 = tf.nn.relu(tf.nn.bias_add(conv2, conv2_biases))\n",
    "    pool2 = cil.max_pool_2x2(relu2)\n",
    "\n",
    "\n",
    "    conv3_weights = cil.weight_variable([4, 4, 120, 200])\n",
    "    conv3_biases = cil.bias_variable([200])\n",
    "\n",
    "    conv3 = cil.conv2d(pool2, conv3_weights)\n",
    "    relu3 = tf.nn.relu(tf.nn.bias_add(conv3, conv3_biases))\n",
    "    pool3 = cil.max_pool_2x2(relu3)\n",
    "\n",
    "    print('pool3 ' + str(pool3.get_shape()))\n",
    "\n",
    "    # Reshape the feature map cuboid into a 2D matrix to feed it to the\n",
    "    # fully connected layers.\n",
    "    pool_shape = pool3.get_shape().as_list()\n",
    "    print('pool_shape ' + str(pool_shape))\n",
    "    reshape = tf.reshape(pool3, [pool_shape[0], pool_shape[1] * pool_shape[2] * pool_shape[3]])\n",
    "    print(reshape.get_shape())\n",
    "\n",
    "    fc1_weights = cil.weight_variable([pool_shape[1] * pool_shape[2] * pool_shape[3], 512])\n",
    "    fc1_biases = cil.bias_variable([512])\n",
    "    print(fc1_weights.get_shape())\n",
    "    print(fc1_biases.get_shape())\n",
    "    fc1 = tf.matmul(reshape, fc1_weights)\n",
    "    fc1 = tf.add(fc1, fc1_biases)\n",
    "    fc1 = tf.nn.relu(fc1)\n",
    "\n",
    "    fc2_weights = cil.weight_variable([512, NUM_LABELS])\n",
    "    fc2_biases = cil.bias_variable([NUM_LABELS])\n",
    "\n",
    "    y = tf.matmul(fc1, fc2_weights) + fc2_biases\n",
    "    if train:\n",
    "        fc1 = tf.nn.dropout(fc1, DROPOUT)\n",
    "    logits = tf.matmul(fc1, fc2_weights) + fc2_biases\n",
    "\n",
    "    if train == True:\n",
    "        summary_id = '_0'\n",
    "        s_data = cil.get_image_summary(data)\n",
    "        filter_summary0 = tf.image_summary('summary_data' + summary_id, s_data)\n",
    "        s_conv = cil.get_image_summary(conv)\n",
    "        filter_summary2 = tf.image_summary('summary_conv' + summary_id, s_conv)\n",
    "        #s_pool = cil.get_image_summary(pool)\n",
    "        #filter_summary3 = tf.image_summary('summary_pool' + summary_id, s_pool)\n",
    "        s_conv2 = cil.get_image_summary(conv2)\n",
    "        filter_summary4 = tf.image_summary('summary_conv2' + summary_id, s_conv2)\n",
    "        s_pool2 = cil.get_image_summary(pool2)\n",
    "        filter_summary5 = tf.image_summary('summary_pool2' + summary_id, s_pool2)\n",
    "\n",
    "    print('y ' + str(y.get_shape()))\n",
    "    print('out ' + str(logits.get_shape()))\n",
    "    \n",
    "    return y, logits, [conv1_weights, conv2_weights, conv3_weights, conv1_biases, conv2_biases, conv3_biases, fc1_weights, fc1_biases, fc2_weights, fc2_biases]"
   ]
  },
  {
   "cell_type": "code",
   "execution_count": 14,
   "metadata": {
    "collapsed": false
   },
   "outputs": [
    {
     "name": "stdout",
     "output_type": "stream",
     "text": [
      "pool3 (20, 2, 2, 200)\n",
      "pool_shape [20, 2, 2, 200]\n",
      "(20, 800)\n",
      "(800, 512)\n",
      "(512,)\n",
      "y (20, 2)\n",
      "out (20, 2)\n",
      "logits = (20, 2) train_labels_node = (20, 2)\n"
     ]
    }
   ],
   "source": [
    "# Training computation: logits + cross-entropy loss.\n",
    "y, logits, [conv1_weights, conv2_weights, conv3_weights, conv1_biases, conv2_biases, conv3_biases, fc1_weights, fc1_biases, fc2_weights, fc2_biases] = model(train_data_node, True) # BATCH_SIZE*NUM_LABELS\n",
    "\n",
    "#\n",
    "correct_prediction = tf.equal(tf.argmax(y,1), tf.argmax(logits,1))\n",
    "accuracy = tf.reduce_mean(tf.cast(correct_prediction, tf.float32))\n",
    "\n",
    "print('logits = ' + str(logits.get_shape()) + ' train_labels_node = ' + str(train_labels_node.get_shape()))\n",
    "loss = tf.reduce_mean(tf.nn.softmax_cross_entropy_with_logits(\n",
    "    logits, train_labels_node))\n",
    "loss_summary = tf.scalar_summary('loss', loss)"
   ]
  },
  {
   "cell_type": "code",
   "execution_count": 15,
   "metadata": {
    "collapsed": false
   },
   "outputs": [],
   "source": [
    "all_params_node = [conv1_weights, conv1_biases, conv2_weights, conv2_biases, fc1_weights, fc1_biases, fc2_weights, fc2_biases]\n",
    "all_params_names = ['conv1_weights', 'conv1_biases', 'conv2_weights', 'conv2_biases', 'fc1_weights', 'fc1_biases', 'fc2_weights', 'fc2_biases']\n",
    "all_grads_node = tf.gradients(loss, all_params_node)\n",
    "all_grad_norms_node = []\n",
    "for i in range(0, len(all_grads_node)):\n",
    "    norm_grad_i = tf.global_norm([all_grads_node[i]])\n",
    "    all_grad_norms_node.append(norm_grad_i)\n",
    "    all_params_summary = tf.scalar_summary(all_params_names[i], norm_grad_i)"
   ]
  },
  {
   "cell_type": "code",
   "execution_count": 16,
   "metadata": {
    "collapsed": false
   },
   "outputs": [],
   "source": [
    "# L2 regularization for the fully connected parameters.\n",
    "regularizers = (tf.nn.l2_loss(fc1_weights) + tf.nn.l2_loss(fc1_biases) +\n",
    "                tf.nn.l2_loss(fc2_weights) + tf.nn.l2_loss(fc2_biases))\n",
    "# Add the regularization term to the loss.\n",
    "loss += 5e-4 * regularizers"
   ]
  },
  {
   "cell_type": "code",
   "execution_count": 17,
   "metadata": {
    "collapsed": true
   },
   "outputs": [],
   "source": [
    "# Optimizer: set up a variable that's incremented once per batch and\n",
    "# controls the learning rate decay.\n",
    "batch = tf.Variable(0)\n",
    "# Decay once per epoch, using an exponential schedule starting at 0.01.\n",
    "learning_rate = tf.train.exponential_decay(\n",
    "    0.01,                # Base learning rate.\n",
    "    batch * BATCH_SIZE,  # Current index into the dataset.\n",
    "    train_size,          # Decay step.\n",
    "    0.95,                # Decay rate.\n",
    "    staircase=True)\n",
    "learning_rate_summary = tf.scalar_summary('learning_rate', learning_rate)"
   ]
  },
  {
   "cell_type": "code",
   "execution_count": 18,
   "metadata": {
    "collapsed": true
   },
   "outputs": [],
   "source": [
    "# try adam\n",
    "optimizer = tf.train.AdamOptimizer(learning_rate).minimize(loss, global_step=batch)"
   ]
  },
  {
   "cell_type": "code",
   "execution_count": 19,
   "metadata": {
    "collapsed": false
   },
   "outputs": [
    {
     "name": "stdout",
     "output_type": "stream",
     "text": [
      "pool3 (12500, 2, 2, 200)\n",
      "pool_shape [12500, 2, 2, 200]\n",
      "(12500, 800)\n",
      "(800, 512)\n",
      "(512,)\n",
      "y (12500, 2)\n",
      "out (12500, 2)\n"
     ]
    }
   ],
   "source": [
    "# Predictions for the minibatch, validation set and test set.\n",
    "train_prediction = tf.nn.softmax(logits)\n",
    "# We'll compute them only once in a while by calling their {eval()} method.\n",
    "y, logits_all, [conv1_weights, conv2_weights, conv3_weights, conv1_biases, conv2_biases, conv3_biases, fc1_weights, fc1_biases, fc2_weights, fc2_biases] = model(train_all_data_node) # BATCH_SIZE*NUM_LABELS\n",
    "train_all_prediction = tf.nn.softmax(logits_all)\n",
    "\n",
    "# Add ops to save and restore all the variables.\n",
    "saver = tf.train.Saver()"
   ]
  },
  {
   "cell_type": "code",
   "execution_count": null,
   "metadata": {
    "collapsed": false
   },
   "outputs": [],
   "source": [
    "s = tf.InteractiveSession()"
   ]
  },
  {
   "cell_type": "code",
   "execution_count": null,
   "metadata": {
    "collapsed": false,
    "scrolled": true
   },
   "outputs": [
    {
     "name": "stdout",
     "output_type": "stream",
     "text": [
      "Initialized!\n",
      "Total number of iterations = 2500\n"
     ]
    }
   ],
   "source": [
    "# Run all the initializers to prepare the trainable parameters.\n",
    "tf.initialize_all_variables().run()\n",
    "\n",
    "# Build the summary operation based on the TF collection of Summaries.\n",
    "#summary_op = tf.merge_summary([loss_summary, learning_rate_summary, all_params_summary])\n",
    "summary_op = tf.merge_summary([loss_summary, learning_rate_summary])\n",
    "summary_writer = tf.train.SummaryWriter(FLAGS.log_dir,\n",
    "                                                graph=s.graph)\n",
    "print ('Initialized!')\n",
    "\n",
    "# Loop through training steps.\n",
    "print ('Total number of iterations = ' + str(int(NUM_EPOCHS * train_size / BATCH_SIZE)))\n",
    "\n",
    "training_indices = range(train_size)\n",
    "\n",
    "for iepoch in range(NUM_EPOCHS):\n",
    "\n",
    "    # Permute training indices\n",
    "    perm_indices = numpy.random.permutation(training_indices)\n",
    "\n",
    "    for step in range (int(train_size / BATCH_SIZE)):\n",
    "\n",
    "        offset = (step * BATCH_SIZE) % (train_size - BATCH_SIZE)\n",
    "        batch_indices = perm_indices[offset:(offset + BATCH_SIZE)]\n",
    "\n",
    "        # Compute the offset of the current minibatch in the data.\n",
    "        # Note that we could use better randomization across epochs.\n",
    "        batch_data = train_data[batch_indices, :, :, :]\n",
    "        batch_labels = train_labels[batch_indices]\n",
    "        #print('batch_data.shape = ' + str(batch_data.shape))\n",
    "        # This dictionary maps the batch data (as a numpy array) to the\n",
    "        # node in the graph is should be fed to.\n",
    "        feed_dict = {train_data_node: batch_data, train_labels_node: batch_labels}\n",
    "\n",
    "        if step % 10 == 0: #RECORDING_STEP == 0:\n",
    "\n",
    "            summary_str, _, l, lr, predictions = s.run(\n",
    "                        [summary_op, optimizer, loss, learning_rate, train_prediction],\n",
    "                        feed_dict=feed_dict)\n",
    "            summary_writer.add_summary(summary_str, step)\n",
    "            summary_writer.flush()\n",
    "\n",
    "            # print_predictions(predictions, batch_labels)\n",
    "            #correct_prediction = tf.equal(tf.argmax(logits, 1), tf.argmax(train_labels, 1))\n",
    "            #print(s.run(accuracy, feed_dict={train_data_node: train_data, train_labels_node: train_labels}))\n",
    "\n",
    "            print('Epoch: ' + str(iepoch))\n",
    "            print('Step: ' + str(step))\n",
    "            print ('Minibatch loss: %.3f, learning rate: %.6f' % (l, lr))\n",
    "            print ('Minibatch error: %.1f%%' % cil.error_rate(predictions,\n",
    "                                                                 batch_labels))\n",
    "            \n",
    "            l, lr, all_predictions = s.run(\n",
    "                        [loss, learning_rate, train_all_prediction],\n",
    "                        feed_dict=feed_dict)\n",
    "            \n",
    "            print('Overall error: %.1f%%' % cil.error_rate(all_predictions, train_labels))\n",
    "\n",
    "            sys.stdout.flush()\n",
    "        else:\n",
    "            # Run the graph and fetch some of the nodes.\n",
    "            _, l, lr, predictions = s.run(\n",
    "                        [optimizer, loss, learning_rate, train_prediction],\n",
    "                        feed_dict=feed_dict)\n",
    "\n",
    "    # Save the variables to disk.\n",
    "    save_path = saver.save(s, FLAGS.train_dir + \"/model.ckpt\")\n",
    "    print(\"Model saved in file: %s\" % save_path) \n",
    "    print(\"-------------------------------------\")"
   ]
  },
  {
   "cell_type": "code",
   "execution_count": null,
   "metadata": {
    "collapsed": true
   },
   "outputs": [],
   "source": [
    "# Get prediction overlaid on the original image for given input file\n",
    "def get_prediction_with_overlay(filename, image_idx):\n",
    "\n",
    "    imageid = \"satImage_%.3d\" % image_idx\n",
    "    image_filename = filename + imageid + \".png\"\n",
    "    img = mpimg.imread(image_filename)\n",
    "\n",
    "    img_prediction = get_prediction(img)\n",
    "    oimg = cil.make_img_overlay(img, img_prediction)\n",
    "\n",
    "    return oimg\n",
    "\n",
    "# Get a concatenation of the prediction and groundtruth for given input file\n",
    "def get_prediction_with_groundtruth(filename, image_idx):\n",
    "\n",
    "    imageid = \"satImage_%.3d\" % image_idx\n",
    "    image_filename = filename + imageid + \".png\"\n",
    "    img = mpimg.imread(image_filename)\n",
    "\n",
    "    img_prediction = get_prediction(img)\n",
    "    cimg = cil.concatenate_images(img, img_prediction)\n",
    "\n",
    "    return cimg\n",
    "\n",
    "# Get prediction for given input image \n",
    "def get_prediction(img):\n",
    "    data = numpy.asarray(cil.img_crop(img, IMG_PATCH_SIZE, IMG_PATCH_SIZE))\n",
    "    data_node = tf.constant(data)\n",
    "    output = tf.nn.softmax(model(data_node))\n",
    "    output_prediction = s.run(output)\n",
    "    img_prediction = cil.label_to_img(img.shape[0], img.shape[1], IMG_PATCH_SIZE, IMG_PATCH_SIZE, output_prediction)\n",
    "\n",
    "    return img_prediction"
   ]
  },
  {
   "cell_type": "code",
   "execution_count": null,
   "metadata": {
    "collapsed": true
   },
   "outputs": [],
   "source": [
    "print (\"Running prediction on training set\")\n",
    "prediction_training_dir = \"predictions_training/\"\n",
    "if not os.path.isdir(prediction_training_dir):\n",
    "    os.mkdir(prediction_training_dir)\n",
    "for i in range(1, TRAINING_SIZE+1):\n",
    "    pimg = get_prediction_with_groundtruth(train_data_filename, i)\n",
    "    Image.fromarray(pimg).save(prediction_training_dir + \"prediction_\" + str(i) + \".png\")\n",
    "    oimg = get_prediction_with_overlay(train_data_filename, i)\n",
    "    oimg.save(prediction_training_dir + \"overlay_\" + str(i) + \".png\") "
   ]
  },
  {
   "cell_type": "code",
   "execution_count": null,
   "metadata": {
    "collapsed": true
   },
   "outputs": [],
   "source": [
    "print (\"Running prediction on test set\")\n",
    "prediction_test_dir = \"predictions_test/\"\n",
    "test_dir = \"test/\"\n",
    "if not os.path.isdir(prediction_test_dir):\n",
    "    os.mkdir(prediction_test_dir)\n",
    "for i in range(1, TEST_SIZE+1):\n",
    "    imagename = \"test_\" + str(i)\n",
    "    image_filename = test_dir + imagename + \"/\" + imagename + \".png\"\n",
    "    img = mpimg.imread(image_filename)\n",
    "    pimg = cil.img_float_to_uint8(get_prediction(img))\n",
    "    Image.fromarray(pimg).save(prediction_test_dir + \"prediction_\" + str(i) + \".png\")"
   ]
  },
  {
   "cell_type": "code",
   "execution_count": null,
   "metadata": {
    "collapsed": true
   },
   "outputs": [],
   "source": [
    "import mask_to_submission as mts\n",
    "mts.save('submission_lukas_09.csv')"
   ]
  },
  {
   "cell_type": "code",
   "execution_count": null,
   "metadata": {
    "collapsed": true
   },
   "outputs": [],
   "source": []
  }
 ],
 "metadata": {
  "kernelspec": {
   "display_name": "venvlis",
   "language": "python",
   "name": "venvlis"
  },
  "language_info": {
   "codemirror_mode": {
    "name": "ipython",
    "version": 3
   },
   "file_extension": ".py",
   "mimetype": "text/x-python",
   "name": "python",
   "nbconvert_exporter": "python",
   "pygments_lexer": "ipython3",
   "version": "3.4.3"
  }
 },
 "nbformat": 4,
 "nbformat_minor": 0
}
