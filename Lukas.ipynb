{
 "cells": [
  {
   "cell_type": "code",
   "execution_count": 25,
   "metadata": {
    "collapsed": false
   },
   "outputs": [],
   "source": [
    "\"\"\"\n",
    "Baseline for CIL project on road segmentation.\n",
    "This simple baseline consits of a CNN with two convolutional+pooling layers with a soft-max loss\n",
    "\"\"\"\n",
    "\n",
    "import gzip\n",
    "import os\n",
    "import sys\n",
    "import urllib\n",
    "import matplotlib.image as mpimg\n",
    "from PIL import Image\n",
    "\n",
    "import code\n",
    "\n",
    "import tensorflow.python.platform\n",
    "\n",
    "import numpy\n",
    "import tensorflow as tf\n",
    "\n",
    "import cil_helper as cil"
   ]
  },
  {
   "cell_type": "code",
   "execution_count": 26,
   "metadata": {
    "collapsed": false
   },
   "outputs": [
    {
     "name": "stdout",
     "output_type": "stream",
     "text": [
      "/tmp/tensorflow_lukas\n"
     ]
    }
   ],
   "source": [
    "try:\n",
    "    tf.app.flags.DEFINE_string('log_dir', '/tmp/tensorflow_lukas',\n",
    "                           \"\"\"Directory where to write event logs \"\"\"\n",
    "                           \"\"\"and checkpoint.\"\"\")\n",
    "except: \n",
    "    print(tf.app.flags.FLAGS.log_dir)\n",
    "    \n",
    "FLAGS = tf.app.flags.FLAGS"
   ]
  },
  {
   "cell_type": "code",
   "execution_count": null,
   "metadata": {
    "collapsed": false
   },
   "outputs": [],
   "source": []
  },
  {
   "cell_type": "code",
   "execution_count": 27,
   "metadata": {
    "collapsed": true
   },
   "outputs": [],
   "source": [
    "TRAINING_SIZE = 20\n",
    "VALIDATION_SIZE = 5  # Size of the validation set.\n",
    "SEED = 66478  # Set to None for random seed.\n",
    "BATCH_SIZE = 64 # 64\n",
    "NUM_EPOCHS = 50\n",
    "RESTORE_MODEL = False # If True, restore existing model instead of training a new one\n",
    "RECORDING_STEP = 100\n",
    "\n",
    "# Set image patch size in pixels\n",
    "# IMG_PATCH_SIZE should be a multiple of 4\n",
    "# image size should be an integer multiple of this number!\n",
    "IMG_PATCH_SIZE = 16"
   ]
  },
  {
   "cell_type": "code",
   "execution_count": 28,
   "metadata": {
    "collapsed": false
   },
   "outputs": [
    {
     "name": "stdout",
     "output_type": "stream",
     "text": [
      "Loading training/images/satImage_001.png\n",
      "Loading training/images/satImage_002.png\n",
      "Loading training/images/satImage_003.png\n",
      "Loading training/images/satImage_004.png\n",
      "Loading training/images/satImage_005.png\n",
      "Loading training/images/satImage_006.png\n",
      "Loading training/images/satImage_007.png\n",
      "Loading training/images/satImage_008.png\n",
      "Loading training/images/satImage_009.png\n",
      "Loading training/images/satImage_010.png\n",
      "Loading training/images/satImage_011.png\n",
      "Loading training/images/satImage_012.png\n",
      "Loading training/images/satImage_013.png\n",
      "Loading training/images/satImage_014.png\n",
      "Loading training/images/satImage_015.png\n",
      "Loading training/images/satImage_016.png\n",
      "Loading training/images/satImage_017.png\n",
      "Loading training/images/satImage_018.png\n",
      "Loading training/images/satImage_019.png\n",
      "Loading training/images/satImage_020.png\n",
      "Loading training/groundtruth/satImage_001.png\n",
      "Loading training/groundtruth/satImage_002.png\n",
      "Loading training/groundtruth/satImage_003.png\n",
      "Loading training/groundtruth/satImage_004.png\n",
      "Loading training/groundtruth/satImage_005.png\n",
      "Loading training/groundtruth/satImage_006.png\n",
      "Loading training/groundtruth/satImage_007.png\n",
      "Loading training/groundtruth/satImage_008.png\n",
      "Loading training/groundtruth/satImage_009.png\n",
      "Loading training/groundtruth/satImage_010.png\n",
      "Loading training/groundtruth/satImage_011.png\n",
      "Loading training/groundtruth/satImage_012.png\n",
      "Loading training/groundtruth/satImage_013.png\n",
      "Loading training/groundtruth/satImage_014.png\n",
      "Loading training/groundtruth/satImage_015.png\n",
      "Loading training/groundtruth/satImage_016.png\n",
      "Loading training/groundtruth/satImage_017.png\n",
      "Loading training/groundtruth/satImage_018.png\n",
      "Loading training/groundtruth/satImage_019.png\n",
      "Loading training/groundtruth/satImage_020.png\n"
     ]
    }
   ],
   "source": [
    "data_dir = 'training/'\n",
    "train_data_filename = data_dir + 'images/'\n",
    "train_labels_filename = data_dir + 'groundtruth/' \n",
    "\n",
    "# Extract it into numpy arrays.\n",
    "train_data = cil.extract_data(train_data_filename, TRAINING_SIZE)\n",
    "train_labels = cil.extract_labels(train_labels_filename, TRAINING_SIZE)\n",
    "\n",
    "num_epochs = NUM_EPOCHS"
   ]
  },
  {
   "cell_type": "code",
   "execution_count": 29,
   "metadata": {
    "collapsed": false
   },
   "outputs": [
    {
     "name": "stdout",
     "output_type": "stream",
     "text": [
      "Number of data points per class: c0 = 9450 c1 = 3050\n"
     ]
    }
   ],
   "source": [
    "c0 = 0\n",
    "c1 = 0\n",
    "for i in range(len(train_labels)):\n",
    "    if train_labels[i][0] == 1:\n",
    "        c0 = c0 + 1\n",
    "    else:\n",
    "        c1 = c1 + 1\n",
    "print ('Number of data points per class: c0 = ' + str(c0) + ' c1 = ' + str(c1))"
   ]
  },
  {
   "cell_type": "code",
   "execution_count": 30,
   "metadata": {
    "collapsed": false
   },
   "outputs": [
    {
     "name": "stdout",
     "output_type": "stream",
     "text": [
      "Balancing training data...\n",
      "6100\n",
      "(12500, 16, 16, 3)\n"
     ]
    }
   ],
   "source": [
    "print ('Balancing training data...')\n",
    "min_c = min(c0, c1)\n",
    "idx0 = [i for i, j in enumerate(train_labels) if j[0] == 1]\n",
    "idx1 = [i for i, j in enumerate(train_labels) if j[1] == 1]\n",
    "new_indices = idx0[0:min_c] + idx1[0:min_c]\n",
    "print (len(new_indices))\n",
    "print (train_data.shape)\n",
    "train_data = train_data[new_indices,:,:,:]\n",
    "train_labels = train_labels[new_indices]\n",
    "\n",
    "\n",
    "train_size = train_labels.shape[0]"
   ]
  },
  {
   "cell_type": "code",
   "execution_count": 31,
   "metadata": {
    "collapsed": false
   },
   "outputs": [
    {
     "name": "stdout",
     "output_type": "stream",
     "text": [
      "Number of data points per class: c0 = 3050 c1 = 3050\n"
     ]
    }
   ],
   "source": [
    "c0 = 0\n",
    "c1 = 0\n",
    "for i in range(len(train_labels)):\n",
    "    if train_labels[i][0] == 1:\n",
    "        c0 = c0 + 1\n",
    "    else:\n",
    "        c1 = c1 + 1\n",
    "print ('Number of data points per class: c0 = ' + str(c0) + ' c1 = ' + str(c1))"
   ]
  },
  {
   "cell_type": "code",
   "execution_count": 32,
   "metadata": {
    "collapsed": false
   },
   "outputs": [],
   "source": [
    "# This is where training samples and labels are fed to the graph.\n",
    "# These placeholder nodes will be fed a batch of training data at each\n",
    "# training step using the {feed_dict} argument to the Run() call below.\n",
    "train_data_node = tf.placeholder(\n",
    "    tf.float32,\n",
    "    shape=(BATCH_SIZE, IMG_PATCH_SIZE, IMG_PATCH_SIZE, cil.NUM_CHANNELS),\n",
    "    name='train_data')\n",
    "train_labels_node = tf.placeholder(\n",
    "    tf.float32,\n",
    "    shape=(BATCH_SIZE, cil.NUM_LABELS),\n",
    "    name='train_labels')\n",
    "train_all_data_node = tf.constant(train_data)"
   ]
  },
  {
   "cell_type": "code",
   "execution_count": 33,
   "metadata": {
    "collapsed": false
   },
   "outputs": [],
   "source": [
    "# The variables below hold all the trainable weights. They are passed an\n",
    "# initial value which will be assigned when when we call:\n",
    "# {tf.initialize_all_variables().run()}\n",
    "conv1_weights = tf.Variable(\n",
    "    tf.truncated_normal([5, 5, cil.NUM_CHANNELS, 32],  # 5x5 filter, depth 32.\n",
    "                        stddev=0.1,\n",
    "                        seed=SEED))\n",
    "conv1_biases = tf.Variable(tf.zeros([32]))\n",
    "conv2_weights = tf.Variable(\n",
    "    tf.truncated_normal([5, 5, 32, 64],\n",
    "                        stddev=0.1,\n",
    "                        seed=SEED))\n",
    "conv2_biases = tf.Variable(tf.constant(0.1, shape=[64]))\n",
    "fc1_weights = tf.Variable(  # fully connected, depth 512.\n",
    "    tf.truncated_normal([int(IMG_PATCH_SIZE / 1 * IMG_PATCH_SIZE / 4 * 64), 512],\n",
    "                        stddev=0.1,\n",
    "                        seed=SEED))\n",
    "fc1_biases = tf.Variable(tf.constant(0.1, shape=[512]))\n",
    "fc2_weights = tf.Variable(\n",
    "    tf.truncated_normal([512, cil.NUM_LABELS],\n",
    "                        stddev=0.1,\n",
    "                        seed=SEED))\n",
    "fc2_biases = tf.Variable(tf.constant(0.1, shape=[cil.NUM_LABELS]))\n",
    "conv1_weights_hist = tf.histogram_summary(\"conv1_weights\", conv1_weights)\n",
    "conv2_weights_hist = tf.histogram_summary(\"conv2_weights\", conv2_weights)\n",
    "conv1_biases_hist = tf.histogram_summary(\"conv1_biases\", conv1_biases)\n",
    "conv2_biases_hist = tf.histogram_summary(\"conv2_biases\", conv2_biases)\n",
    "fc1_weights_hist = tf.histogram_summary(\"fc1_weights\", fc1_weights)\n",
    "fc1_biases_hist = tf.histogram_summary(\"fc1_biases\", fc1_biases)\n",
    "fc2_weights_hist = tf.histogram_summary(\"fc2_weights\", fc2_weights)\n",
    "fc2_biases_hist = tf.histogram_summary(\"fc2_biases\", fc2_biases)"
   ]
  },
  {
   "cell_type": "code",
   "execution_count": null,
   "metadata": {
    "collapsed": true
   },
   "outputs": [],
   "source": []
  },
  {
   "cell_type": "code",
   "execution_count": 34,
   "metadata": {
    "collapsed": false
   },
   "outputs": [],
   "source": [
    "# We will replicate the model structure for the training subgraph, as well\n",
    "# as the evaluation subgraphs, while sharing the trainable parameters.\n",
    "def model(data, train=False):\n",
    "    \"\"\"The Model definition.\"\"\"\n",
    "    # 2D convolution, with 'SAME' padding (i.e. the output feature map has\n",
    "    # the same size as the input). Note that {strides} is a 4D array whose\n",
    "    # shape matches the data layout: [image index, y, x, depth].\n",
    "    conv = cil.conv2d(data, conv1_weights)\n",
    "\n",
    "    # Bias and rectified linear non-linearity.\n",
    "    relu = tf.nn.relu(tf.nn.bias_add(conv, conv1_biases))\n",
    "    # Max pooling. The kernel size spec {ksize} also follows the layout of\n",
    "    # the data. Here we have a pooling window of 2, and a stride of 2.\n",
    "    #pool = tf.nn.max_pool(relu,\n",
    "    #                      ksize=[1, 2, 2, 1],\n",
    "    #                      strides=[1, 2, 2, 1],\n",
    "    #                      padding='SAME')\n",
    "\n",
    "    conv2 = cil.conv2d(relu, conv2_weights)\n",
    "    relu2 = tf.nn.relu(tf.nn.bias_add(conv2, conv2_biases))\n",
    "    pool2 = cil.max_pool_2x2(relu2)\n",
    "\n",
    "    # Uncomment these lines to check the size of each layer\n",
    "    print('data ' + str(data.get_shape()))\n",
    "    print( 'conv ' + str(conv.get_shape()))\n",
    "    print( 'relu ' + str(relu.get_shape()))\n",
    "    #print( 'pool ' + str(pool.get_shape()))\n",
    "    print( 'pool2 ' + str(pool2.get_shape()))\n",
    "\n",
    "\n",
    "    # Reshape the feature map cuboid into a 2D matrix to feed it to the\n",
    "    # fully connected layers.\n",
    "    pool_shape = pool2.get_shape().as_list()\n",
    "    reshape = tf.reshape(\n",
    "        pool2,\n",
    "        [pool_shape[0], pool_shape[1] * pool_shape[2] * pool_shape[3]])\n",
    "    # Fully connected layer. Note that the '+' operation automatically\n",
    "    # broadcasts the biases.\n",
    "    hidden = tf.nn.relu(tf.matmul(reshape, fc1_weights) + fc1_biases)\n",
    "    # Add a 50% dropout during training only. Dropout also scales\n",
    "    # activations such that no rescaling is needed at evaluation time.\n",
    "    if train:\n",
    "        hidden = tf.nn.dropout(hidden, 0.5, seed=SEED)\n",
    "    out = tf.matmul(hidden, fc2_weights) + fc2_biases\n",
    "\n",
    "    if train == True:\n",
    "        summary_id = '_0'\n",
    "        s_data = cil.get_image_summary(data)\n",
    "        filter_summary0 = tf.image_summary('summary_data' + summary_id, s_data)\n",
    "        s_conv = cil.get_image_summary(conv)\n",
    "        filter_summary2 = tf.image_summary('summary_conv' + summary_id, s_conv)\n",
    "        #s_pool = cil.get_image_summary(pool)\n",
    "        #filter_summary3 = tf.image_summary('summary_pool' + summary_id, s_pool)\n",
    "        s_conv2 = cil.get_image_summary(conv2)\n",
    "        filter_summary4 = tf.image_summary('summary_conv2' + summary_id, s_conv2)\n",
    "        s_pool2 = cil.get_image_summary(pool2)\n",
    "        filter_summary5 = tf.image_summary('summary_pool2' + summary_id, s_pool2)\n",
    "\n",
    "    return out"
   ]
  },
  {
   "cell_type": "code",
   "execution_count": null,
   "metadata": {
    "collapsed": false
   },
   "outputs": [],
   "source": []
  },
  {
   "cell_type": "code",
   "execution_count": 35,
   "metadata": {
    "collapsed": false
   },
   "outputs": [
    {
     "name": "stdout",
     "output_type": "stream",
     "text": [
      "data (64, 16, 16, 3)\n",
      "conv (64, 16, 16, 32)\n",
      "relu (64, 16, 16, 32)\n",
      "pool2 (64, 8, 8, 64)\n"
     ]
    }
   ],
   "source": [
    "# Training computation: logits + cross-entropy loss.\n",
    "logits = model(train_data_node, True) # BATCH_SIZE*NUM_LABELS\n",
    "# print 'logits = ' + str(logits.get_shape()) + ' train_labels_node = ' + str(train_labels_node.get_shape())\n",
    "loss = tf.reduce_mean(tf.nn.softmax_cross_entropy_with_logits(\n",
    "    logits, train_labels_node))\n",
    "loss_summary = tf.scalar_summary('loss', loss)"
   ]
  },
  {
   "cell_type": "code",
   "execution_count": 36,
   "metadata": {
    "collapsed": true
   },
   "outputs": [],
   "source": [
    "all_params_node = [conv1_weights, conv1_biases, conv2_weights, conv2_biases, fc1_weights, fc1_biases, fc2_weights, fc2_biases]\n",
    "all_params_names = ['conv1_weights', 'conv1_biases', 'conv2_weights', 'conv2_biases', 'fc1_weights', 'fc1_biases', 'fc2_weights', 'fc2_biases']\n",
    "all_grads_node = tf.gradients(loss, all_params_node)\n",
    "all_grad_norms_node = []\n",
    "for i in range(0, len(all_grads_node)):\n",
    "    norm_grad_i = tf.global_norm([all_grads_node[i]])\n",
    "    all_grad_norms_node.append(norm_grad_i)\n",
    "    all_params_summary = tf.scalar_summary(all_params_names[i], norm_grad_i)"
   ]
  },
  {
   "cell_type": "code",
   "execution_count": 37,
   "metadata": {
    "collapsed": true
   },
   "outputs": [],
   "source": [
    "# L2 regularization for the fully connected parameters.\n",
    "regularizers = (tf.nn.l2_loss(fc1_weights) + tf.nn.l2_loss(fc1_biases) +\n",
    "                tf.nn.l2_loss(fc2_weights) + tf.nn.l2_loss(fc2_biases))\n",
    "# Add the regularization term to the loss.\n",
    "loss += 5e-4 * regularizers"
   ]
  },
  {
   "cell_type": "code",
   "execution_count": 38,
   "metadata": {
    "collapsed": false
   },
   "outputs": [],
   "source": [
    "# Optimizer: set up a variable that's incremented once per batch and\n",
    "# controls the learning rate decay.\n",
    "batch = tf.Variable(0)\n",
    "# Decay once per epoch, using an exponential schedule starting at 0.01.\n",
    "learning_rate = tf.train.exponential_decay(\n",
    "    0.01,                # Base learning rate.\n",
    "    batch * BATCH_SIZE,  # Current index into the dataset.\n",
    "    train_size,          # Decay step.\n",
    "    0.95,                # Decay rate.\n",
    "    staircase=True)\n",
    "learning_rate_summary = tf.scalar_summary('learning_rate', learning_rate)"
   ]
  },
  {
   "cell_type": "code",
   "execution_count": 39,
   "metadata": {
    "collapsed": true
   },
   "outputs": [],
   "source": [
    "# Use simple momentum for the optimization.\n",
    "optimizer = tf.train.MomentumOptimizer(learning_rate, 0.0).minimize(loss, global_step=batch)"
   ]
  },
  {
   "cell_type": "code",
   "execution_count": 40,
   "metadata": {
    "collapsed": false
   },
   "outputs": [
    {
     "name": "stdout",
     "output_type": "stream",
     "text": [
      "data (6100, 16, 16, 3)\n",
      "conv (6100, 16, 16, 32)\n",
      "relu (6100, 16, 16, 32)\n",
      "pool2 (6100, 8, 8, 64)\n"
     ]
    }
   ],
   "source": [
    "# Predictions for the minibatch, validation set and test set.\n",
    "train_prediction = tf.nn.softmax(logits)\n",
    "# We'll compute them only once in a while by calling their {eval()} method.\n",
    "train_all_prediction = tf.nn.softmax(model(train_all_data_node))\n",
    "\n",
    "# Add ops to save and restore all the variables.\n",
    "saver = tf.train.Saver()"
   ]
  },
  {
   "cell_type": "code",
   "execution_count": 41,
   "metadata": {
    "collapsed": false
   },
   "outputs": [],
   "source": [
    "# Get prediction for given input image \n",
    "def get_prediction(img):\n",
    "    data = numpy.asarray(img_crop(img, IMG_PATCH_SIZE, IMG_PATCH_SIZE))\n",
    "    data_node = tf.constant(data)\n",
    "    output = tf.nn.softmax(model(data_node))\n",
    "    output_prediction = s.run(output)\n",
    "    img_prediction = label_to_img(img.shape[0], img.shape[1], IMG_PATCH_SIZE, IMG_PATCH_SIZE, output_prediction)\n",
    "\n",
    "    return img_prediction"
   ]
  },
  {
   "cell_type": "code",
   "execution_count": null,
   "metadata": {
    "collapsed": false
   },
   "outputs": [
    {
     "name": "stdout",
     "output_type": "stream",
     "text": [
      "Initialized!\n",
      "Total number of iterations = 4765\n",
      "Epoch 0.00\n",
      "Minibatch loss: 4.997, learning rate: 0.010000\n",
      "Minibatch error: 51.6%\n",
      "Model saved in file: /tmp/tensorflow/model.ckpt\n",
      "Epoch 0.00\n",
      "Minibatch loss: 4.616, learning rate: 0.010000\n",
      "Minibatch error: 25.0%\n",
      "Model saved in file: /tmp/tensorflow/model.ckpt\n",
      "Epoch 0.00\n",
      "Minibatch loss: 4.679, learning rate: 0.009500\n",
      "Minibatch error: 32.8%\n",
      "Model saved in file: /tmp/tensorflow/model.ckpt\n",
      "Epoch 0.00\n",
      "Minibatch loss: 4.658, learning rate: 0.009025\n",
      "Minibatch error: 35.9%\n",
      "Model saved in file: /tmp/tensorflow/model.ckpt\n",
      "Epoch 0.00\n",
      "Minibatch loss: 4.654, learning rate: 0.008574\n",
      "Minibatch error: 39.1%\n",
      "Model saved in file: /tmp/tensorflow/model.ckpt\n",
      "Epoch 0.00\n",
      "Minibatch loss: 4.659, learning rate: 0.008145\n",
      "Minibatch error: 40.6%\n",
      "Model saved in file: /tmp/tensorflow/model.ckpt\n",
      "Epoch 0.00\n",
      "Minibatch loss: 4.667, learning rate: 0.007738\n",
      "Minibatch error: 29.7%\n",
      "Model saved in file: /tmp/tensorflow/model.ckpt\n",
      "Epoch 0.00\n",
      "Minibatch loss: 4.588, learning rate: 0.007351\n",
      "Minibatch error: 31.2%\n",
      "Model saved in file: /tmp/tensorflow/model.ckpt\n",
      "Epoch 0.00\n",
      "Minibatch loss: 4.532, learning rate: 0.006983\n",
      "Minibatch error: 26.6%\n",
      "Model saved in file: /tmp/tensorflow/model.ckpt\n",
      "Epoch 0.00\n",
      "Minibatch loss: 4.618, learning rate: 0.006634\n",
      "Minibatch error: 35.9%\n",
      "Model saved in file: /tmp/tensorflow/model.ckpt\n",
      "Epoch 0.00\n",
      "Minibatch loss: 4.570, learning rate: 0.006302\n",
      "Minibatch error: 21.9%\n",
      "Model saved in file: /tmp/tensorflow/model.ckpt\n",
      "Epoch 0.00\n",
      "Minibatch loss: 4.526, learning rate: 0.005987\n",
      "Minibatch error: 21.9%\n",
      "Model saved in file: /tmp/tensorflow/model.ckpt\n",
      "Epoch 0.00\n",
      "Minibatch loss: 4.494, learning rate: 0.005688\n",
      "Minibatch error: 26.6%\n",
      "Model saved in file: /tmp/tensorflow/model.ckpt\n",
      "Epoch 0.00\n",
      "Minibatch loss: 4.508, learning rate: 0.005404\n",
      "Minibatch error: 26.6%\n",
      "Model saved in file: /tmp/tensorflow/model.ckpt\n",
      "Epoch 0.00\n",
      "Minibatch loss: 4.574, learning rate: 0.005133\n",
      "Minibatch error: 29.7%\n",
      "Model saved in file: /tmp/tensorflow/model.ckpt\n",
      "Epoch 0.00\n",
      "Minibatch loss: 4.537, learning rate: 0.004877\n",
      "Minibatch error: 31.2%\n",
      "Model saved in file: /tmp/tensorflow/model.ckpt\n",
      "Epoch 0.00\n",
      "Minibatch loss: 4.495, learning rate: 0.004633\n",
      "Minibatch error: 29.7%\n",
      "Model saved in file: /tmp/tensorflow/model.ckpt\n",
      "Epoch 0.00\n",
      "Minibatch loss: 4.544, learning rate: 0.004401\n",
      "Minibatch error: 23.4%\n",
      "Model saved in file: /tmp/tensorflow/model.ckpt\n",
      "Epoch 0.00\n",
      "Minibatch loss: 4.525, learning rate: 0.004181\n",
      "Minibatch error: 26.6%\n",
      "Model saved in file: /tmp/tensorflow/model.ckpt\n",
      "Epoch 0.00\n",
      "Minibatch loss: 4.438, learning rate: 0.003972\n",
      "Minibatch error: 17.2%\n",
      "Model saved in file: /tmp/tensorflow/model.ckpt\n",
      "Epoch 0.00\n",
      "Minibatch loss: 4.513, learning rate: 0.003774\n",
      "Minibatch error: 21.9%\n",
      "Model saved in file: /tmp/tensorflow/model.ckpt\n",
      "Epoch 0.00\n",
      "Minibatch loss: 4.453, learning rate: 0.003585\n",
      "Minibatch error: 20.3%\n",
      "Model saved in file: /tmp/tensorflow/model.ckpt\n",
      "Epoch 0.00\n",
      "Minibatch loss: 4.469, learning rate: 0.003406\n",
      "Minibatch error: 26.6%\n",
      "Model saved in file: /tmp/tensorflow/model.ckpt\n",
      "Epoch 0.00\n",
      "Minibatch loss: 4.492, learning rate: 0.003235\n",
      "Minibatch error: 26.6%\n",
      "Model saved in file: /tmp/tensorflow/model.ckpt\n",
      "Epoch 0.00\n",
      "Minibatch loss: 4.388, learning rate: 0.003074\n",
      "Minibatch error: 14.1%\n",
      "Model saved in file: /tmp/tensorflow/model.ckpt\n",
      "Epoch 0.00\n",
      "Minibatch loss: 4.538, learning rate: 0.002920\n",
      "Minibatch error: 26.6%\n",
      "Model saved in file: /tmp/tensorflow/model.ckpt\n",
      "Epoch 0.00\n",
      "Minibatch loss: 4.478, learning rate: 0.002774\n",
      "Minibatch error: 25.0%\n",
      "Model saved in file: /tmp/tensorflow/model.ckpt\n",
      "Epoch 0.00\n",
      "Minibatch loss: 4.558, learning rate: 0.002635\n",
      "Minibatch error: 28.1%\n",
      "Model saved in file: /tmp/tensorflow/model.ckpt\n",
      "Epoch 0.00\n",
      "Minibatch loss: 4.365, learning rate: 0.002503\n",
      "Minibatch error: 14.1%\n",
      "Model saved in file: /tmp/tensorflow/model.ckpt\n",
      "Epoch 0.00\n",
      "Minibatch loss: 4.444, learning rate: 0.002378\n",
      "Minibatch error: 17.2%\n",
      "Model saved in file: /tmp/tensorflow/model.ckpt\n",
      "Epoch 0.00\n",
      "Minibatch loss: 4.459, learning rate: 0.002259\n",
      "Minibatch error: 21.9%\n",
      "Model saved in file: /tmp/tensorflow/model.ckpt\n",
      "Epoch 0.00\n",
      "Minibatch loss: 4.441, learning rate: 0.002146\n",
      "Minibatch error: 18.8%\n",
      "Model saved in file: /tmp/tensorflow/model.ckpt\n",
      "Epoch 0.00\n",
      "Minibatch loss: 4.442, learning rate: 0.002039\n",
      "Minibatch error: 18.8%\n",
      "Model saved in file: /tmp/tensorflow/model.ckpt\n",
      "Epoch 0.00\n",
      "Minibatch loss: 4.423, learning rate: 0.001937\n",
      "Minibatch error: 15.6%\n",
      "Model saved in file: /tmp/tensorflow/model.ckpt\n",
      "Epoch 0.00\n",
      "Minibatch loss: 4.446, learning rate: 0.001840\n",
      "Minibatch error: 21.9%\n",
      "Model saved in file: /tmp/tensorflow/model.ckpt\n",
      "Epoch 0.00\n",
      "Minibatch loss: 4.517, learning rate: 0.001748\n",
      "Minibatch error: 28.1%\n"
     ]
    }
   ],
   "source": [
    "# Create a local session to run this computation.\n",
    "with tf.Session() as s:\n",
    "    if RESTORE_MODEL:\n",
    "        # Restore variables from disk.\n",
    "        saver.restore(s, FLAGS.train_dir + \"/model.ckpt\")\n",
    "        print(\"Model restored.\")\n",
    "\n",
    "    else:\n",
    "        # Run all the initializers to prepare the trainable parameters.\n",
    "        tf.initialize_all_variables().run()\n",
    "\n",
    "        # Build the summary operation based on the TF collection of Summaries.\n",
    "        summary_op = tf.merge_summary([loss_summary, learning_rate_summary, all_params_summary, conv1_weights_hist, conv2_weights_hist])\n",
    "        summary_writer = tf.train.SummaryWriter(FLAGS.log_dir,\n",
    "                                                graph=s.graph)\n",
    "        print ('Initialized!')\n",
    "\n",
    "        # Loop through training steps.\n",
    "        print ('Total number of iterations = ' + str(int(num_epochs * train_size / BATCH_SIZE)))\n",
    "\n",
    "        training_indices = range(train_size)\n",
    "\n",
    "        for iepoch in range(num_epochs):\n",
    "\n",
    "            # Permute training indices\n",
    "            perm_indices = numpy.random.permutation(training_indices)\n",
    "\n",
    "            for step in range (int(train_size / BATCH_SIZE)):\n",
    "\n",
    "                offset = (step * BATCH_SIZE) % (train_size - BATCH_SIZE)\n",
    "                batch_indices = perm_indices[offset:(offset + BATCH_SIZE)]\n",
    "\n",
    "                # Compute the offset of the current minibatch in the data.\n",
    "                # Note that we could use better randomization across epochs.\n",
    "                batch_data = train_data[batch_indices, :, :, :]\n",
    "                batch_labels = train_labels[batch_indices]\n",
    "                #print('batch_data.shape = ' + str(batch_data.shape))\n",
    "                # This dictionary maps the batch data (as a numpy array) to the\n",
    "                # node in the graph is should be fed to.\n",
    "                feed_dict = {train_data_node: batch_data,\n",
    "                             train_labels_node: batch_labels}\n",
    "\n",
    "                if step % RECORDING_STEP == 0:\n",
    "\n",
    "                    summary_str, _, l, lr, predictions = s.run(\n",
    "                        [summary_op, optimizer, loss, learning_rate, train_prediction],\n",
    "                        feed_dict=feed_dict)\n",
    "                    summary_writer.add_summary(summary_str, step)\n",
    "                    summary_writer.flush()\n",
    "\n",
    "                    # print_predictions(predictions, batch_labels)\n",
    "\n",
    "                    print ('Epoch %.2f' % (float(step) * BATCH_SIZE / train_size))\n",
    "                    print ('Minibatch loss: %.3f, learning rate: %.6f' % (l, lr))\n",
    "                    print ('Minibatch error: %.1f%%' % cil.error_rate(predictions,\n",
    "                                                                 batch_labels))\n",
    "\n",
    "                    sys.stdout.flush()\n",
    "                else:\n",
    "                    # Run the graph and fetch some of the nodes.\n",
    "                    _, l, lr, predictions = s.run(\n",
    "                        [optimizer, loss, learning_rate, train_prediction],\n",
    "                        feed_dict=feed_dict)\n",
    "\n",
    "            # Save the variables to disk.\n",
    "            save_path = saver.save(s, FLAGS.train_dir + \"/model.ckpt\")\n",
    "            print(\"Model saved in file: %s\" % save_path)\n",
    "\n",
    "    print (\"Running prediction on training set\")\n",
    "    prediction_training_dir = \"predictions_training/\"\n",
    "    if not os.path.isdir(prediction_training_dir):\n",
    "        os.mkdir(prediction_training_dir)\n",
    "    for i in range(1, TRAINING_SIZE+1):\n",
    "        pimg = cil.get_prediction_with_groundtruth(train_data_filename, i)\n",
    "        Image.fromarray(pimg).save(prediction_training_dir + \"prediction_\" + str(i) + \".png\")\n",
    "        oimg = get_prediction_with_overlay(train_data_filename, i)\n",
    "        oimg.save(prediction_training_dir + \"overlay_\" + str(i) + \".png\")       "
   ]
  },
  {
   "cell_type": "code",
   "execution_count": null,
   "metadata": {
    "collapsed": true
   },
   "outputs": [],
   "source": []
  },
  {
   "cell_type": "code",
   "execution_count": null,
   "metadata": {
    "collapsed": true
   },
   "outputs": [],
   "source": []
  }
 ],
 "metadata": {
  "kernelspec": {
   "display_name": "Python 3",
   "language": "python",
   "name": "python3"
  },
  "language_info": {
   "codemirror_mode": {
    "name": "ipython",
    "version": 3
   },
   "file_extension": ".py",
   "mimetype": "text/x-python",
   "name": "python",
   "nbconvert_exporter": "python",
   "pygments_lexer": "ipython3",
   "version": "3.4.3"
  }
 },
 "nbformat": 4,
 "nbformat_minor": 0
}
