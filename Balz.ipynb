{
 "cells": [
  {
   "cell_type": "code",
   "execution_count": 1,
   "metadata": {
    "collapsed": false
   },
   "outputs": [],
   "source": [
    "\"\"\"\n",
    "Baseline for CIL project on road segmentation.\n",
    "This simple baseline consits of a CNN with two convolutional+pooling layers with a soft-max loss\n",
    "\"\"\"\n",
    "\n",
    "import gzip\n",
    "import os\n",
    "import sys\n",
    "import urllib\n",
    "import matplotlib.image as mpimg\n",
    "from PIL import Image\n",
    "\n",
    "import code\n",
    "\n",
    "import tensorflow.python.platform\n",
    "\n",
    "import numpy as np\n",
    "import tensorflow as tf\n",
    "\n",
    "import cil_helper as cil"
   ]
  },
  {
   "cell_type": "code",
   "execution_count": 2,
   "metadata": {
    "collapsed": true
   },
   "outputs": [],
   "source": [
    "from skimage.feature import greycomatrix, greycoprops"
   ]
  },
  {
   "cell_type": "code",
   "execution_count": 3,
   "metadata": {
    "collapsed": false
   },
   "outputs": [],
   "source": [
    "try:\n",
    "    tf.app.flags.DEFINE_string('log_dir', '/tmp/tensorflow_lukas',\n",
    "                           \"\"\"Directory where to write event logs \"\"\"\n",
    "                           \"\"\"and checkpoint.\"\"\")\n",
    "except: \n",
    "    print(tf.app.flags.FLAGS.log_dir)\n",
    "    \n",
    "FLAGS = tf.app.flags.FLAGS"
   ]
  },
  {
   "cell_type": "code",
   "execution_count": 4,
   "metadata": {
    "collapsed": true
   },
   "outputs": [],
   "source": [
    "TRAINING_SIZE = 20\n",
    "VALIDATION_SIZE = 5  # Size of the validation set.\n",
    "TEST_SIZE = 50\n",
    "SEED = 66478  # Set to None for random seed.\n",
    "BATCH_SIZE = 32 # 64\n",
    "NUM_EPOCHS = 20\n",
    "RESTORE_MODEL = False # If True, restore existing model instead of training a new one\n",
    "RECORDING_STEP = 100\n",
    "\n",
    "# Set image patch size in pixels\n",
    "# IMG_PATCH_SIZE should be a multiple of 4\n",
    "# image size should be an integer multiple of this number!\n",
    "IMG_PATCH_SIZE = 16"
   ]
  },
  {
   "cell_type": "code",
   "execution_count": 5,
   "metadata": {
    "collapsed": true
   },
   "outputs": [],
   "source": [
    "# returns a numpy array [Saturation, Lightness] of a pixel\n",
    "def sat_light(rgb):\n",
    "    Cmax = rgb.max()\n",
    "    Cmin = rgb.min()\n",
    "    d = Cmax - Cmin\n",
    "    L = (Cmax + Cmin) / 2\n",
    "    S = d / (1 - (abs(2 * L - 1)))\n",
    "    if np.isnan(S):\n",
    "        S = 0\n",
    "    return np.asarray([S, L], dtype=np.float32)"
   ]
  },
  {
   "cell_type": "code",
   "execution_count": 6,
   "metadata": {
    "collapsed": true
   },
   "outputs": [],
   "source": [
    "max_offset = 1 #feel free to change\n",
    "LIGHTNESS_LEVELS = 8\n",
    "LIGHTNESS_IDX = 4\n",
    "#returns [contrast, correlation, energy, homogeneity]\n",
    "def texture_features(image, y, x):\n",
    "    ylow = max(0, y-max_offset)\n",
    "    yhi = min(image.shape[0], y+max_offset+1)\n",
    "    xlow = max(0, x-max_offset)\n",
    "    xhi = min(image.shape[1], x+max_offset+1)\n",
    "    #print([ylow,yhi,xlow,xhi])\n",
    "    window = ((image[ylow:yhi, xlow:xhi, LIGHTNESS_IDX]) * (LIGHTNESS_LEVELS-1)).astype(np.uint8)\n",
    "    try:\n",
    "        glcm = greycomatrix(window, [i for i in range(1,max_offset+1)], [0, np.pi/2], levels=LIGHTNESS_LEVELS, normed=True)\n",
    "    except AssertionError:\n",
    "        print(repr(window))\n",
    "        print(repr(image))\n",
    "        raise\n",
    "    contrast = greycoprops(glcm, 'contrast').mean()\n",
    "    correlation = greycoprops(glcm, 'correlation').mean()\n",
    "    energy = greycoprops(glcm, 'energy').mean()\n",
    "    homogeneity = greycoprops(glcm, 'homogeneity').mean()\n",
    "    #dissimilarity = greycoprops(glcm, 'dissimilarity').mean()\n",
    "    return np.asarray([contrast, correlation, energy, homogeneity], dtype=np.float32)"
   ]
  },
  {
   "cell_type": "code",
   "execution_count": 7,
   "metadata": {
    "collapsed": false
   },
   "outputs": [],
   "source": [
    "NUM_CHANNELS = 9 # RGB, Saturation, Lightness, 4 Texture\n",
    "def preprocess(img):\n",
    "    new_shape = list(img.shape)\n",
    "    new_shape[2] = NUM_CHANNELS\n",
    "    result = np.empty(new_shape, dtype=np.float32)\n",
    "    result[:,:,:3] = img\n",
    "    for y in range(len(img)):\n",
    "        for x in range(len(img[y])):\n",
    "            result[y,x,3:5] = sat_light(result[y,x,:3])\n",
    "    for y in range(len(img)):\n",
    "        for x in range(len(img[y])):\n",
    "            result[y,x,5:] = texture_features(result[:,:,:5], y, x)\n",
    "    return result\n",
    "#    img = np.asarray([[\n",
    "#                    np.append(px, sat_light(px))\n",
    "#                    for px in y] for y in img], dtype=np.float32)\n",
    "#    return np.asarray([[\n",
    "#                    np.append(img[y,x], texture_features(img,y,x))\n",
    "#                    for x in range(len(img[y]))] for y in range(len(img))], dtype=np.float32)"
   ]
  },
  {
   "cell_type": "code",
   "execution_count": 8,
   "metadata": {
    "collapsed": false
   },
   "outputs": [
    {
     "data": {
      "text/plain": [
       "array([ 0.06888789,  0.50361139,  0.12656377,  0.75934333,  0.28624964,\n",
       "        1.5       ,  1.        ,  0.70710677,  0.55000001], dtype=float32)"
      ]
     },
     "execution_count": 8,
     "metadata": {},
     "output_type": "execute_result"
    }
   ],
   "source": [
    "a = np.random.rand(10,10,3)\n",
    "preprocess(a)[0,0]"
   ]
  },
  {
   "cell_type": "code",
   "execution_count": 22,
   "metadata": {
    "collapsed": false,
    "scrolled": true
   },
   "outputs": [
    {
     "name": "stdout",
     "output_type": "stream",
     "text": [
      "image 1 of 20 preprocessed\n",
      "image 2 of 20 preprocessed\n",
      "image 3 of 20 preprocessed\n",
      "image 4 of 20 preprocessed\n",
      "image 5 of 20 preprocessed\n",
      "image 6 of 20 preprocessed\n",
      "image 7 of 20 preprocessed\n",
      "image 8 of 20 preprocessed\n",
      "image 9 of 20 preprocessed\n",
      "image 10 of 20 preprocessed\n",
      "image 11 of 20 preprocessed\n",
      "image 12 of 20 preprocessed\n",
      "image 13 of 20 preprocessed\n",
      "image 14 of 20 preprocessed\n",
      "image 15 of 20 preprocessed\n",
      "image 16 of 20 preprocessed\n",
      "image 17 of 20 preprocessed\n",
      "image 18 of 20 preprocessed\n",
      "image 19 of 20 preprocessed\n",
      "image 20 of 20 preprocessed\n"
     ]
    }
   ],
   "source": [
    "data_dir = 'training/'\n",
    "train_data_filename = data_dir + 'images/'\n",
    "train_labels_filename = data_dir + 'groundtruth/' \n",
    "\n",
    "# Extract it into numpy arrays.\n",
    "PREPROCESS_DATA = False\n",
    "if (PREPROCESS_DATA):\n",
    "    train_data = cil.extract_data(train_data_filename, TRAINING_SIZE, preprocess)\n",
    "    np.save('preprocessed_train_data.npy', train_data)\n",
    "else:\n",
    "    try:\n",
    "        train_data = np.load('preprocessed_train_data.npy')\n",
    "    except IOError:\n",
    "        train_data = cil.extract_data(train_data_filename, TRAINING_SIZE, preprocess)\n",
    "        np.save('preprocessed_train_data.npy', train_data)\n",
    "train_labels = cil.extract_labels(train_labels_filename, TRAINING_SIZE)\n",
    "\n",
    "num_epochs = NUM_EPOCHS"
   ]
  },
  {
   "cell_type": "code",
   "execution_count": 23,
   "metadata": {
    "collapsed": false
   },
   "outputs": [
    {
     "data": {
      "text/plain": [
       "(12500, 16, 16, 9)"
      ]
     },
     "execution_count": 23,
     "metadata": {},
     "output_type": "execute_result"
    }
   ],
   "source": [
    "train_data.shape"
   ]
  },
  {
   "cell_type": "code",
   "execution_count": 24,
   "metadata": {
    "collapsed": false
   },
   "outputs": [
    {
     "name": "stdout",
     "output_type": "stream",
     "text": [
      "Number of data points per class: c0 = 9450 c1 = 3050\n"
     ]
    }
   ],
   "source": [
    "c0 = 0\n",
    "c1 = 0\n",
    "for i in range(len(train_labels)):\n",
    "    if train_labels[i][0] == 1:\n",
    "        c0 = c0 + 1\n",
    "    else:\n",
    "        c1 = c1 + 1\n",
    "print ('Number of data points per class: c0 = ' + str(c0) + ' c1 = ' + str(c1))"
   ]
  },
  {
   "cell_type": "code",
   "execution_count": 25,
   "metadata": {
    "collapsed": false
   },
   "outputs": [
    {
     "name": "stdout",
     "output_type": "stream",
     "text": [
      "Balancing training data...\n",
      "6100\n",
      "(6100, 16, 16, 9)\n"
     ]
    }
   ],
   "source": [
    "print ('Balancing training data...')\n",
    "min_c = min(c0, c1)\n",
    "idx0 = [i for i, j in enumerate(train_labels) if j[0] == 1]\n",
    "idx1 = [i for i, j in enumerate(train_labels) if j[1] == 1]\n",
    "new_indices = idx0[0:min_c] + idx1[0:min_c]\n",
    "print (len(new_indices))\n",
    "train_data = train_data[new_indices,:,:,:]\n",
    "train_labels = train_labels[new_indices]\n",
    "print (train_data.shape)\n",
    "\n",
    "\n",
    "train_size = train_labels.shape[0]"
   ]
  },
  {
   "cell_type": "code",
   "execution_count": 26,
   "metadata": {
    "collapsed": false
   },
   "outputs": [],
   "source": [
    "# This is where training samples and labels are fed to the graph.\n",
    "# These placeholder nodes will be fed a batch of training data at each\n",
    "# training step using the {feed_dict} argument to the Run() call below.\n",
    "train_data_node = tf.placeholder(\n",
    "    tf.float32,\n",
    "    shape=(BATCH_SIZE, IMG_PATCH_SIZE, IMG_PATCH_SIZE, NUM_CHANNELS),\n",
    "    name='train_data')\n",
    "train_labels_node = tf.placeholder(\n",
    "    tf.float32,\n",
    "    shape=(BATCH_SIZE, cil.NUM_LABELS),\n",
    "    name='train_labels')\n",
    "train_all_data_node = tf.constant(train_data)"
   ]
  },
  {
   "cell_type": "code",
   "execution_count": 27,
   "metadata": {
    "collapsed": false
   },
   "outputs": [
    {
     "name": "stdout",
     "output_type": "stream",
     "text": [
      "(5, 5, 9, 32)\n"
     ]
    }
   ],
   "source": [
    "# The variables below hold all the trainable weights. They are passed an\n",
    "# initial value which will be assigned when when we call:\n",
    "# {tf.initialize_all_variables().run()}\n",
    "conv1_weights = tf.Variable(\n",
    "    tf.truncated_normal([5, 5, NUM_CHANNELS, 32],  # 5x5 filter, depth 32.\n",
    "                        stddev=0.1,\n",
    "                        seed=SEED))\n",
    "print(conv1_weights.get_shape())\n",
    "conv1_biases = tf.Variable(tf.zeros([32]))\n",
    "conv2_weights = tf.Variable(\n",
    "    tf.truncated_normal([5, 5, 32, 64],\n",
    "                        stddev=0.1,\n",
    "                        seed=SEED))\n",
    "conv2_biases = tf.Variable(tf.constant(0.1, shape=[64]))\n",
    "fc1_weights = tf.Variable(  # fully connected, depth 512.\n",
    "    tf.truncated_normal([int(IMG_PATCH_SIZE / 4 * IMG_PATCH_SIZE / 4 * 64), 512],\n",
    "                        stddev=0.1,\n",
    "                        seed=SEED))\n",
    "fc1_biases = tf.Variable(tf.constant(0.1, shape=[512]))\n",
    "fc2_weights = tf.Variable(\n",
    "    tf.truncated_normal([512, cil.NUM_LABELS],\n",
    "                        stddev=0.1,\n",
    "                        seed=SEED))\n",
    "fc2_biases = tf.Variable(tf.constant(0.1, shape=[cil.NUM_LABELS]))\n",
    "conv1_weights_hist = tf.histogram_summary(\"conv1_weights\", conv1_weights)\n",
    "conv2_weights_hist = tf.histogram_summary(\"conv2_weights\", conv2_weights)\n",
    "conv1_biases_hist = tf.histogram_summary(\"conv1_biases\", conv1_biases)\n",
    "conv2_biases_hist = tf.histogram_summary(\"conv2_biases\", conv2_biases)\n",
    "fc1_weights_hist = tf.histogram_summary(\"fc1_weights\", fc1_weights)\n",
    "fc1_biases_hist = tf.histogram_summary(\"fc1_biases\", fc1_biases)\n",
    "fc2_weights_hist = tf.histogram_summary(\"fc2_weights\", fc2_weights)\n",
    "fc2_biases_hist = tf.histogram_summary(\"fc2_biases\", fc2_biases)"
   ]
  },
  {
   "cell_type": "code",
   "execution_count": 28,
   "metadata": {
    "collapsed": false
   },
   "outputs": [],
   "source": [
    "# We will replicate the model structure for the training subgraph, as well\n",
    "# as the evaluation subgraphs, while sharing the trainable parameters.\n",
    "def model(data, train=False):\n",
    "    \"\"\"The Model definition.\"\"\"\n",
    "    # 2D convolution, with 'SAME' padding (i.e. the output feature map has\n",
    "    # the same size as the input). Note that {strides} is a 4D array whose\n",
    "    # shape matches the data layout: [image index, y, x, depth].\n",
    "    conv = cil.conv2d(data, conv1_weights)\n",
    "\n",
    "    # Bias and rectified linear non-linearity.\n",
    "    relu = tf.nn.relu(tf.nn.bias_add(conv, conv1_biases))\n",
    "    # Max pooling. The kernel size spec {ksize} also follows the layout of\n",
    "    # the data. Here we have a pooling window of 2, and a stride of 2.\n",
    "    pool = tf.nn.max_pool(relu,\n",
    "                          ksize=[1, 2, 2, 1],\n",
    "                          strides=[1, 2, 2, 1],\n",
    "                          padding='SAME')\n",
    "\n",
    "    conv2 = cil.conv2d(pool, conv2_weights)\n",
    "    relu2 = tf.nn.relu(tf.nn.bias_add(conv2, conv2_biases))\n",
    "    pool2 = cil.max_pool_2x2(relu2)\n",
    "\n",
    "    # Uncomment these lines to check the size of each layer\n",
    "    #pr#int('data ' + str(data.get_shape()))\n",
    "    #pri#nt( 'conv ' + str(conv.get_shape()))\n",
    "    #prin#t( 'relu ' + str(relu.get_shape()))\n",
    "    #print( 'pool ' + str(pool.get_shape()))\n",
    "    #print#( 'pool2 ' + str(pool2.get_shape()))\n",
    "\n",
    "\n",
    "    # Reshape the feature map cuboid into a 2D matrix to feed it to the\n",
    "    # fully connected layers.\n",
    "    pool_shape = pool2.get_shape().as_list()\n",
    "    reshape = tf.reshape(\n",
    "        pool2,\n",
    "        [pool_shape[0], pool_shape[1] * pool_shape[2] * pool_shape[3]])\n",
    "    # Fully connected layer. Note that the '+' operation automatically\n",
    "    # broadcasts the biases.\n",
    "    hidden = tf.nn.relu(tf.matmul(reshape, fc1_weights) + fc1_biases)\n",
    "    # Add a 50% dropout during training only. Dropout also scales\n",
    "    # activations such that no rescaling is needed at evaluation time.\n",
    "    if train:\n",
    "        hidden = tf.nn.dropout(hidden, 0.5, seed=SEED)\n",
    "    out = tf.matmul(hidden, fc2_weights) + fc2_biases\n",
    "\n",
    "    if train == True:\n",
    "        summary_id = '_0'\n",
    "        s_data = cil.get_image_summary(data)\n",
    "        filter_summary0 = tf.image_summary('summary_data' + summary_id, s_data)\n",
    "        s_conv = cil.get_image_summary(conv)\n",
    "        filter_summary2 = tf.image_summary('summary_conv' + summary_id, s_conv)\n",
    "        #s_pool = cil.get_image_summary(pool)\n",
    "        #filter_summary3 = tf.image_summary('summary_pool' + summary_id, s_pool)\n",
    "        s_conv2 = cil.get_image_summary(conv2)\n",
    "        filter_summary4 = tf.image_summary('summary_conv2' + summary_id, s_conv2)\n",
    "        s_pool2 = cil.get_image_summary(pool2)\n",
    "        filter_summary5 = tf.image_summary('summary_pool2' + summary_id, s_pool2)\n",
    "\n",
    "    return out"
   ]
  },
  {
   "cell_type": "code",
   "execution_count": 29,
   "metadata": {
    "collapsed": false
   },
   "outputs": [],
   "source": [
    "# Training computation: logits + cross-entropy loss.\n",
    "logits = model(train_data_node, True) # BATCH_SIZE*NUM_LABELS\n",
    "# print 'logits = ' + str(logits.get_shape()) + ' train_labels_node = ' + str(train_labels_node.get_shape())\n",
    "loss = tf.reduce_mean(tf.nn.softmax_cross_entropy_with_logits(\n",
    "    logits, train_labels_node))\n",
    "loss_summary = tf.scalar_summary('loss', loss)"
   ]
  },
  {
   "cell_type": "code",
   "execution_count": 30,
   "metadata": {
    "collapsed": true
   },
   "outputs": [],
   "source": [
    "all_params_node = [conv1_weights, conv1_biases, conv2_weights, conv2_biases, fc1_weights, fc1_biases, fc2_weights, fc2_biases]\n",
    "all_params_names = ['conv1_weights', 'conv1_biases', 'conv2_weights', 'conv2_biases', 'fc1_weights', 'fc1_biases', 'fc2_weights', 'fc2_biases']\n",
    "all_grads_node = tf.gradients(loss, all_params_node)\n",
    "all_grad_norms_node = []\n",
    "for i in range(0, len(all_grads_node)):\n",
    "    norm_grad_i = tf.global_norm([all_grads_node[i]])\n",
    "    all_grad_norms_node.append(norm_grad_i)\n",
    "    all_params_summary = tf.scalar_summary(all_params_names[i], norm_grad_i)"
   ]
  },
  {
   "cell_type": "code",
   "execution_count": 31,
   "metadata": {
    "collapsed": true
   },
   "outputs": [],
   "source": [
    "# L2 regularization for the fully connected parameters.\n",
    "regularizers = (tf.nn.l2_loss(fc1_weights) + tf.nn.l2_loss(fc1_biases) +\n",
    "                tf.nn.l2_loss(fc2_weights) + tf.nn.l2_loss(fc2_biases))\n",
    "# Add the regularization term to the loss.\n",
    "loss += 5e-4 * regularizers"
   ]
  },
  {
   "cell_type": "code",
   "execution_count": 32,
   "metadata": {
    "collapsed": false
   },
   "outputs": [],
   "source": [
    "# Optimizer: set up a variable that's incremented once per batch and\n",
    "# controls the learning rate decay.\n",
    "batch = tf.Variable(0)\n",
    "# Decay once per epoch, using an exponential schedule starting at 0.01.\n",
    "learning_rate = tf.train.exponential_decay(\n",
    "    0.01,                # Base learning rate.\n",
    "    batch * BATCH_SIZE,  # Current index into the dataset.\n",
    "    train_size,          # Decay step.\n",
    "    0.95,                # Decay rate.\n",
    "    staircase=True)\n",
    "learning_rate_summary = tf.scalar_summary('learning_rate', learning_rate)"
   ]
  },
  {
   "cell_type": "code",
   "execution_count": 33,
   "metadata": {
    "collapsed": false
   },
   "outputs": [],
   "source": [
    "# Use simple momentum for the optimization.\n",
    "#optimizer = tf.train.MomentumOptimizer(learning_rate, 0.0).minimize(loss, global_step=batch)\n",
    "\n",
    "# try adam\n",
    "optimizer = tf.train.AdamOptimizer(learning_rate).minimize(loss, global_step=batch)"
   ]
  },
  {
   "cell_type": "code",
   "execution_count": 34,
   "metadata": {
    "collapsed": false
   },
   "outputs": [],
   "source": [
    "# Predictions for the minibatch, validation set and test set.\n",
    "train_prediction = tf.nn.softmax(logits)\n",
    "# We'll compute them only once in a while by calling their {eval()} method.\n",
    "train_all_prediction = tf.nn.softmax(model(train_all_data_node))\n",
    "\n",
    "# Add ops to save and restore all the variables.\n",
    "saver = tf.train.Saver()"
   ]
  },
  {
   "cell_type": "code",
   "execution_count": 35,
   "metadata": {
    "collapsed": true
   },
   "outputs": [],
   "source": [
    "# Get prediction overlaid on the original image for given input file\n",
    "def get_prediction_with_overlay(filename, image_idx):\n",
    "\n",
    "    imageid = \"satImage_%.3d\" % image_idx\n",
    "    image_filename = filename + imageid + \".png\"\n",
    "    img = mpimg.imread(image_filename)\n",
    "\n",
    "    img_prediction = get_prediction(img)\n",
    "    oimg = cil.make_img_overlay(img, img_prediction)\n",
    "\n",
    "    return oimg\n",
    "\n",
    "# Get a concatenation of the prediction and groundtruth for given input file\n",
    "def get_prediction_with_groundtruth(filename, image_idx):\n",
    "\n",
    "    imageid = \"satImage_%.3d\" % image_idx\n",
    "    image_filename = filename + imageid + \".png\"\n",
    "    img = mpimg.imread(image_filename)\n",
    "\n",
    "    img_prediction = get_prediction(img)\n",
    "    cimg = cil.concatenate_images(img, img_prediction)\n",
    "\n",
    "    return cimg\n",
    "\n",
    "# Get prediction for given input image \n",
    "def get_prediction(img):\n",
    "    data = np.asarray(cil.img_crop(img, IMG_PATCH_SIZE, IMG_PATCH_SIZE))\n",
    "    data = augment_data(data)\n",
    "    data_node = tf.constant(data)\n",
    "    output = tf.nn.softmax(model(data_node))\n",
    "    output_prediction = s.run(output)\n",
    "    img_prediction = cil.label_to_img(img.shape[0], img.shape[1], IMG_PATCH_SIZE, IMG_PATCH_SIZE, output_prediction)\n",
    "\n",
    "    return img_prediction"
   ]
  },
  {
   "cell_type": "code",
   "execution_count": 36,
   "metadata": {
    "collapsed": false
   },
   "outputs": [],
   "source": [
    "s = tf.InteractiveSession()"
   ]
  },
  {
   "cell_type": "code",
   "execution_count": 37,
   "metadata": {
    "collapsed": false
   },
   "outputs": [],
   "source": [
    "if RESTORE_MODEL:\n",
    "    # Restore variables from disk.\n",
    "    saver.restore(FLAGS.train_dir + \"/model.ckpt\")\n",
    "    print(\"Model restored.\")"
   ]
  },
  {
   "cell_type": "code",
   "execution_count": 38,
   "metadata": {
    "collapsed": false,
    "scrolled": false
   },
   "outputs": [
    {
     "name": "stdout",
     "output_type": "stream",
     "text": [
      "Initialized!\n",
      "Total number of iterations = 3812\n",
      "Epoch: 0\n",
      "Step: 0\n",
      "Minibatch loss: 161.872, learning rate: 0.010000\n",
      "Minibatch error: 50.0%\n",
      "Overall error: 50.0%\n",
      "Epoch: 0\n",
      "Step: 100\n",
      "Minibatch loss: 1.352, learning rate: 0.010000\n",
      "Minibatch error: 40.6%\n",
      "Overall error: 38.3%\n",
      "Model saved in file: /tmp/tensorflow/model.ckpt\n",
      "-------------------------------------\n",
      "Epoch: 1\n",
      "Step: 0\n",
      "Minibatch loss: 1.106, learning rate: 0.009500\n",
      "Minibatch error: 40.6%\n",
      "Overall error: 31.7%\n",
      "Epoch: 1\n",
      "Step: 100\n",
      "Minibatch loss: 1.089, learning rate: 0.009500\n",
      "Minibatch error: 34.4%\n",
      "Overall error: 30.8%\n",
      "Model saved in file: /tmp/tensorflow/model.ckpt\n",
      "-------------------------------------\n",
      "Epoch: 2\n",
      "Step: 0\n",
      "Minibatch loss: 0.777, learning rate: 0.009500\n",
      "Minibatch error: 18.8%\n",
      "Overall error: 30.2%\n",
      "Epoch: 2\n",
      "Step: 100\n",
      "Minibatch loss: 0.847, learning rate: 0.009025\n",
      "Minibatch error: 28.1%\n",
      "Overall error: 28.8%\n",
      "Model saved in file: /tmp/tensorflow/model.ckpt\n",
      "-------------------------------------\n",
      "Epoch: 3\n",
      "Step: 0\n",
      "Minibatch loss: 0.849, learning rate: 0.009025\n",
      "Minibatch error: 37.5%\n",
      "Overall error: 29.4%\n",
      "Epoch: 3\n",
      "Step: 100\n",
      "Minibatch loss: 0.702, learning rate: 0.008574\n",
      "Minibatch error: 34.4%\n",
      "Overall error: 29.6%\n",
      "Model saved in file: /tmp/tensorflow/model.ckpt\n",
      "-------------------------------------\n",
      "Epoch: 4\n",
      "Step: 0\n",
      "Minibatch loss: 0.662, learning rate: 0.008574\n",
      "Minibatch error: 21.9%\n",
      "Overall error: 28.7%\n",
      "Epoch: 4\n",
      "Step: 100\n",
      "Minibatch loss: 0.634, learning rate: 0.008145\n",
      "Minibatch error: 21.9%\n",
      "Overall error: 28.3%\n",
      "Model saved in file: /tmp/tensorflow/model.ckpt\n",
      "-------------------------------------\n",
      "Epoch: 5\n",
      "Step: 0\n",
      "Minibatch loss: 0.735, learning rate: 0.008145\n",
      "Minibatch error: 40.6%\n",
      "Overall error: 29.7%\n",
      "Epoch: 5\n",
      "Step: 100\n",
      "Minibatch loss: 0.685, learning rate: 0.007738\n",
      "Minibatch error: 34.4%\n",
      "Overall error: 28.8%\n",
      "Model saved in file: /tmp/tensorflow/model.ckpt\n",
      "-------------------------------------\n",
      "Epoch: 6\n",
      "Step: 0\n",
      "Minibatch loss: 0.793, learning rate: 0.007738\n",
      "Minibatch error: 34.4%\n",
      "Overall error: 29.9%\n",
      "Epoch: 6\n",
      "Step: 100\n",
      "Minibatch loss: 0.752, learning rate: 0.007351\n",
      "Minibatch error: 31.2%\n",
      "Overall error: 28.1%\n",
      "Model saved in file: /tmp/tensorflow/model.ckpt\n",
      "-------------------------------------\n",
      "Epoch: 7\n",
      "Step: 0\n",
      "Minibatch loss: 0.686, learning rate: 0.007351\n",
      "Minibatch error: 40.6%\n",
      "Overall error: 27.1%\n",
      "Epoch: 7\n",
      "Step: 100\n",
      "Minibatch loss: 0.521, learning rate: 0.006983\n",
      "Minibatch error: 15.6%\n",
      "Overall error: 27.7%\n",
      "Model saved in file: /tmp/tensorflow/model.ckpt\n",
      "-------------------------------------\n",
      "Epoch: 8\n",
      "Step: 0\n",
      "Minibatch loss: 0.673, learning rate: 0.006983\n",
      "Minibatch error: 21.9%\n",
      "Overall error: 31.0%\n",
      "Epoch: 8\n",
      "Step: 100\n",
      "Minibatch loss: 0.607, learning rate: 0.006634\n",
      "Minibatch error: 31.2%\n",
      "Overall error: 26.8%\n",
      "Model saved in file: /tmp/tensorflow/model.ckpt\n",
      "-------------------------------------\n",
      "Epoch: 9\n",
      "Step: 0\n",
      "Minibatch loss: 0.722, learning rate: 0.006634\n",
      "Minibatch error: 25.0%\n",
      "Overall error: 26.4%\n",
      "Epoch: 9\n",
      "Step: 100\n",
      "Minibatch loss: 0.541, learning rate: 0.006302\n",
      "Minibatch error: 21.9%\n",
      "Overall error: 27.2%\n",
      "Model saved in file: /tmp/tensorflow/model.ckpt\n",
      "-------------------------------------\n",
      "Epoch: 10\n",
      "Step: 0\n",
      "Minibatch loss: 0.590, learning rate: 0.006302\n",
      "Minibatch error: 31.2%\n",
      "Overall error: 26.5%\n",
      "Epoch: 10\n",
      "Step: 100\n",
      "Minibatch loss: 0.471, learning rate: 0.005987\n",
      "Minibatch error: 18.8%\n",
      "Overall error: 26.9%\n",
      "Model saved in file: /tmp/tensorflow/model.ckpt\n",
      "-------------------------------------\n",
      "Epoch: 11\n",
      "Step: 0\n",
      "Minibatch loss: 0.688, learning rate: 0.005987\n",
      "Minibatch error: 37.5%\n",
      "Overall error: 32.0%\n",
      "Epoch: 11\n",
      "Step: 100\n",
      "Minibatch loss: 0.540, learning rate: 0.005688\n",
      "Minibatch error: 31.2%\n",
      "Overall error: 28.5%\n",
      "Model saved in file: /tmp/tensorflow/model.ckpt\n",
      "-------------------------------------\n",
      "Epoch: 12\n",
      "Step: 0\n",
      "Minibatch loss: 0.597, learning rate: 0.005688\n",
      "Minibatch error: 31.2%\n",
      "Overall error: 26.5%\n",
      "Epoch: 12\n",
      "Step: 100\n",
      "Minibatch loss: 0.696, learning rate: 0.005404\n",
      "Minibatch error: 37.5%\n",
      "Overall error: 25.4%\n",
      "Model saved in file: /tmp/tensorflow/model.ckpt\n",
      "-------------------------------------\n",
      "Epoch: 13\n",
      "Step: 0\n",
      "Minibatch loss: 0.506, learning rate: 0.005404\n",
      "Minibatch error: 25.0%\n",
      "Overall error: 26.2%\n",
      "Epoch: 13\n",
      "Step: 100\n",
      "Minibatch loss: 0.459, learning rate: 0.005133\n",
      "Minibatch error: 25.0%\n",
      "Overall error: 26.3%\n",
      "Model saved in file: /tmp/tensorflow/model.ckpt\n",
      "-------------------------------------\n",
      "Epoch: 14\n",
      "Step: 0\n",
      "Minibatch loss: 0.541, learning rate: 0.005133\n",
      "Minibatch error: 25.0%\n",
      "Overall error: 25.9%\n",
      "Epoch: 14\n",
      "Step: 100\n",
      "Minibatch loss: 0.639, learning rate: 0.004877\n",
      "Minibatch error: 43.8%\n",
      "Overall error: 25.4%\n",
      "Model saved in file: /tmp/tensorflow/model.ckpt\n",
      "-------------------------------------\n",
      "Epoch: 15\n",
      "Step: 0\n",
      "Minibatch loss: 0.502, learning rate: 0.004877\n",
      "Minibatch error: 25.0%\n",
      "Overall error: 25.1%\n",
      "Epoch: 15\n",
      "Step: 100\n",
      "Minibatch loss: 0.509, learning rate: 0.004633\n",
      "Minibatch error: 21.9%\n",
      "Overall error: 24.3%\n",
      "Model saved in file: /tmp/tensorflow/model.ckpt\n",
      "-------------------------------------\n",
      "Epoch: 16\n",
      "Step: 0\n",
      "Minibatch loss: 0.577, learning rate: 0.004633\n",
      "Minibatch error: 28.1%\n",
      "Overall error: 25.2%\n",
      "Epoch: 16\n",
      "Step: 100\n",
      "Minibatch loss: 0.756, learning rate: 0.004401\n",
      "Minibatch error: 37.5%\n",
      "Overall error: 30.8%\n",
      "Model saved in file: /tmp/tensorflow/model.ckpt\n",
      "-------------------------------------\n",
      "Epoch: 17\n",
      "Step: 0\n",
      "Minibatch loss: 0.529, learning rate: 0.004401\n",
      "Minibatch error: 18.8%\n",
      "Overall error: 26.0%\n",
      "Epoch: 17\n",
      "Step: 100\n",
      "Minibatch loss: 0.537, learning rate: 0.004181\n",
      "Minibatch error: 34.4%\n",
      "Overall error: 26.1%\n",
      "Model saved in file: /tmp/tensorflow/model.ckpt\n",
      "-------------------------------------\n",
      "Epoch: 18\n",
      "Step: 0\n",
      "Minibatch loss: 0.620, learning rate: 0.004181\n",
      "Minibatch error: 21.9%\n",
      "Overall error: 25.0%\n",
      "Epoch: 18\n",
      "Step: 100\n",
      "Minibatch loss: 0.530, learning rate: 0.003972\n",
      "Minibatch error: 21.9%\n",
      "Overall error: 25.2%\n",
      "Model saved in file: /tmp/tensorflow/model.ckpt\n",
      "-------------------------------------\n",
      "Epoch: 19\n",
      "Step: 0\n",
      "Minibatch loss: 0.488, learning rate: 0.003972\n",
      "Minibatch error: 15.6%\n",
      "Overall error: 23.8%\n",
      "Epoch: 19\n",
      "Step: 100\n",
      "Minibatch loss: 0.610, learning rate: 0.003774\n",
      "Minibatch error: 31.2%\n",
      "Overall error: 27.9%\n",
      "Model saved in file: /tmp/tensorflow/model.ckpt\n",
      "-------------------------------------\n"
     ]
    }
   ],
   "source": [
    "# Run all the initializers to prepare the trainable parameters.\n",
    "tf.initialize_all_variables().run()\n",
    "\n",
    "# Build the summary operation based on the TF collection of Summaries.\n",
    "summary_op = tf.merge_summary([loss_summary, learning_rate_summary, all_params_summary, conv1_weights_hist, conv2_weights_hist])\n",
    "summary_writer = tf.train.SummaryWriter(FLAGS.log_dir,\n",
    "                                                graph=s.graph)\n",
    "print ('Initialized!')\n",
    "\n",
    "# Loop through training steps.\n",
    "print ('Total number of iterations = ' + str(int(num_epochs * train_size / BATCH_SIZE)))\n",
    "\n",
    "training_indices = range(train_size)\n",
    "\n",
    "for iepoch in range(num_epochs):\n",
    "\n",
    "    # Permute training indices\n",
    "    perm_indices = np.random.permutation(training_indices)\n",
    "\n",
    "    for step in range (int(train_size / BATCH_SIZE)):\n",
    "\n",
    "        offset = (step * BATCH_SIZE) % (train_size - BATCH_SIZE)\n",
    "        batch_indices = perm_indices[offset:(offset + BATCH_SIZE)]\n",
    "\n",
    "        # Compute the offset of the current minibatch in the data.\n",
    "        # Note that we could use better randomization across epochs.\n",
    "        batch_data = train_data[batch_indices, :, :, :]\n",
    "        batch_labels = train_labels[batch_indices]\n",
    "        #print('batch_data.shape = ' + str(batch_data.shape))\n",
    "        # This dictionary maps the batch data (as a numpy array) to the\n",
    "        # node in the graph is should be fed to.\n",
    "        feed_dict = {train_data_node: batch_data, train_labels_node: batch_labels}\n",
    "\n",
    "        if step % RECORDING_STEP == 0:\n",
    "\n",
    "            summary_str, _, l, lr, predictions = s.run(\n",
    "                        [summary_op, optimizer, loss, learning_rate, train_prediction],\n",
    "                        feed_dict=feed_dict)\n",
    "            summary_writer.add_summary(summary_str, step)\n",
    "            summary_writer.flush()\n",
    "            \n",
    "            l, lr, all_predictions = s.run(\n",
    "                        [loss, learning_rate, train_all_prediction],\n",
    "                        feed_dict=feed_dict)\n",
    "            # print_predictions(predictions, batch_labels)\n",
    "\n",
    "            print('Epoch: ' + str(iepoch))\n",
    "            print('Step: ' + str(step))\n",
    "            print ('Minibatch loss: %.3f, learning rate: %.6f' % (l, lr))\n",
    "            print ('Minibatch error: %.1f%%' % cil.error_rate(predictions,\n",
    "                                                                 batch_labels))\n",
    "            print('Overall error: %.1f%%' % cil.error_rate(all_predictions, train_labels))\n",
    "\n",
    "            sys.stdout.flush()\n",
    "        else:\n",
    "            # Run the graph and fetch some of the nodes.\n",
    "            _, l, lr, predictions = s.run(\n",
    "                        [optimizer, loss, learning_rate, train_prediction],\n",
    "                        feed_dict=feed_dict)\n",
    "\n",
    "    # Save the variables to disk.\n",
    "    save_path = saver.save(s, FLAGS.train_dir + \"/model.ckpt\")\n",
    "    print(\"Model saved in file: %s\" % save_path) \n",
    "    print(\"-------------------------------------\")"
   ]
  },
  {
   "cell_type": "code",
   "execution_count": 39,
   "metadata": {
    "collapsed": false
   },
   "outputs": [
    {
     "name": "stdout",
     "output_type": "stream",
     "text": [
      "Running prediction on training set\n"
     ]
    },
    {
     "ename": "NameError",
     "evalue": "name 'augment_data' is not defined",
     "output_type": "error",
     "traceback": [
      "\u001b[1;31m---------------------------------------------------------------------------\u001b[0m",
      "\u001b[1;31mNameError\u001b[0m                                 Traceback (most recent call last)",
      "\u001b[1;32m<ipython-input-39-389108dfa862>\u001b[0m in \u001b[0;36m<module>\u001b[1;34m()\u001b[0m\n\u001b[0;32m      4\u001b[0m     \u001b[0mos\u001b[0m\u001b[1;33m.\u001b[0m\u001b[0mmkdir\u001b[0m\u001b[1;33m(\u001b[0m\u001b[0mprediction_training_dir\u001b[0m\u001b[1;33m)\u001b[0m\u001b[1;33m\u001b[0m\u001b[0m\n\u001b[0;32m      5\u001b[0m \u001b[1;32mfor\u001b[0m \u001b[0mi\u001b[0m \u001b[1;32min\u001b[0m \u001b[0mrange\u001b[0m\u001b[1;33m(\u001b[0m\u001b[1;36m1\u001b[0m\u001b[1;33m,\u001b[0m \u001b[0mTRAINING_SIZE\u001b[0m\u001b[1;33m+\u001b[0m\u001b[1;36m1\u001b[0m\u001b[1;33m)\u001b[0m\u001b[1;33m:\u001b[0m\u001b[1;33m\u001b[0m\u001b[0m\n\u001b[1;32m----> 6\u001b[1;33m     \u001b[0mpimg\u001b[0m \u001b[1;33m=\u001b[0m \u001b[0mget_prediction_with_groundtruth\u001b[0m\u001b[1;33m(\u001b[0m\u001b[0mtrain_data_filename\u001b[0m\u001b[1;33m,\u001b[0m \u001b[0mi\u001b[0m\u001b[1;33m)\u001b[0m\u001b[1;33m\u001b[0m\u001b[0m\n\u001b[0m\u001b[0;32m      7\u001b[0m     \u001b[0mImage\u001b[0m\u001b[1;33m.\u001b[0m\u001b[0mfromarray\u001b[0m\u001b[1;33m(\u001b[0m\u001b[0mpimg\u001b[0m\u001b[1;33m)\u001b[0m\u001b[1;33m.\u001b[0m\u001b[0msave\u001b[0m\u001b[1;33m(\u001b[0m\u001b[0mprediction_training_dir\u001b[0m \u001b[1;33m+\u001b[0m \u001b[1;34m\"prediction_\"\u001b[0m \u001b[1;33m+\u001b[0m \u001b[0mstr\u001b[0m\u001b[1;33m(\u001b[0m\u001b[0mi\u001b[0m\u001b[1;33m)\u001b[0m \u001b[1;33m+\u001b[0m \u001b[1;34m\".png\"\u001b[0m\u001b[1;33m)\u001b[0m\u001b[1;33m\u001b[0m\u001b[0m\n\u001b[0;32m      8\u001b[0m     \u001b[0moimg\u001b[0m \u001b[1;33m=\u001b[0m \u001b[0mget_prediction_with_overlay\u001b[0m\u001b[1;33m(\u001b[0m\u001b[0mtrain_data_filename\u001b[0m\u001b[1;33m,\u001b[0m \u001b[0mi\u001b[0m\u001b[1;33m)\u001b[0m\u001b[1;33m\u001b[0m\u001b[0m\n",
      "\u001b[1;32m<ipython-input-35-399c529790ef>\u001b[0m in \u001b[0;36mget_prediction_with_groundtruth\u001b[1;34m(filename, image_idx)\u001b[0m\n\u001b[0;32m     18\u001b[0m     \u001b[0mimg\u001b[0m \u001b[1;33m=\u001b[0m \u001b[0mmpimg\u001b[0m\u001b[1;33m.\u001b[0m\u001b[0mimread\u001b[0m\u001b[1;33m(\u001b[0m\u001b[0mimage_filename\u001b[0m\u001b[1;33m)\u001b[0m\u001b[1;33m\u001b[0m\u001b[0m\n\u001b[0;32m     19\u001b[0m \u001b[1;33m\u001b[0m\u001b[0m\n\u001b[1;32m---> 20\u001b[1;33m     \u001b[0mimg_prediction\u001b[0m \u001b[1;33m=\u001b[0m \u001b[0mget_prediction\u001b[0m\u001b[1;33m(\u001b[0m\u001b[0mimg\u001b[0m\u001b[1;33m)\u001b[0m\u001b[1;33m\u001b[0m\u001b[0m\n\u001b[0m\u001b[0;32m     21\u001b[0m     \u001b[0mcimg\u001b[0m \u001b[1;33m=\u001b[0m \u001b[0mcil\u001b[0m\u001b[1;33m.\u001b[0m\u001b[0mconcatenate_images\u001b[0m\u001b[1;33m(\u001b[0m\u001b[0mimg\u001b[0m\u001b[1;33m,\u001b[0m \u001b[0mimg_prediction\u001b[0m\u001b[1;33m)\u001b[0m\u001b[1;33m\u001b[0m\u001b[0m\n\u001b[0;32m     22\u001b[0m \u001b[1;33m\u001b[0m\u001b[0m\n",
      "\u001b[1;32m<ipython-input-35-399c529790ef>\u001b[0m in \u001b[0;36mget_prediction\u001b[1;34m(img)\u001b[0m\n\u001b[0;32m     26\u001b[0m \u001b[1;32mdef\u001b[0m \u001b[0mget_prediction\u001b[0m\u001b[1;33m(\u001b[0m\u001b[0mimg\u001b[0m\u001b[1;33m)\u001b[0m\u001b[1;33m:\u001b[0m\u001b[1;33m\u001b[0m\u001b[0m\n\u001b[0;32m     27\u001b[0m     \u001b[0mdata\u001b[0m \u001b[1;33m=\u001b[0m \u001b[0mnp\u001b[0m\u001b[1;33m.\u001b[0m\u001b[0masarray\u001b[0m\u001b[1;33m(\u001b[0m\u001b[0mcil\u001b[0m\u001b[1;33m.\u001b[0m\u001b[0mimg_crop\u001b[0m\u001b[1;33m(\u001b[0m\u001b[0mimg\u001b[0m\u001b[1;33m,\u001b[0m \u001b[0mIMG_PATCH_SIZE\u001b[0m\u001b[1;33m,\u001b[0m \u001b[0mIMG_PATCH_SIZE\u001b[0m\u001b[1;33m)\u001b[0m\u001b[1;33m)\u001b[0m\u001b[1;33m\u001b[0m\u001b[0m\n\u001b[1;32m---> 28\u001b[1;33m     \u001b[0mdata\u001b[0m \u001b[1;33m=\u001b[0m \u001b[0maugment_data\u001b[0m\u001b[1;33m(\u001b[0m\u001b[0mdata\u001b[0m\u001b[1;33m)\u001b[0m\u001b[1;33m\u001b[0m\u001b[0m\n\u001b[0m\u001b[0;32m     29\u001b[0m     \u001b[0mdata_node\u001b[0m \u001b[1;33m=\u001b[0m \u001b[0mtf\u001b[0m\u001b[1;33m.\u001b[0m\u001b[0mconstant\u001b[0m\u001b[1;33m(\u001b[0m\u001b[0mdata\u001b[0m\u001b[1;33m)\u001b[0m\u001b[1;33m\u001b[0m\u001b[0m\n\u001b[0;32m     30\u001b[0m     \u001b[0moutput\u001b[0m \u001b[1;33m=\u001b[0m \u001b[0mtf\u001b[0m\u001b[1;33m.\u001b[0m\u001b[0mnn\u001b[0m\u001b[1;33m.\u001b[0m\u001b[0msoftmax\u001b[0m\u001b[1;33m(\u001b[0m\u001b[0mmodel\u001b[0m\u001b[1;33m(\u001b[0m\u001b[0mdata_node\u001b[0m\u001b[1;33m)\u001b[0m\u001b[1;33m)\u001b[0m\u001b[1;33m\u001b[0m\u001b[0m\n",
      "\u001b[1;31mNameError\u001b[0m: name 'augment_data' is not defined"
     ]
    }
   ],
   "source": [
    "print (\"Running prediction on training set\")\n",
    "prediction_training_dir = \"predictions_training/\"\n",
    "if not os.path.isdir(prediction_training_dir):\n",
    "    os.mkdir(prediction_training_dir)\n",
    "for i in range(1, TRAINING_SIZE+1):\n",
    "    pimg = get_prediction_with_groundtruth(train_data_filename, i)\n",
    "    Image.fromarray(pimg).save(prediction_training_dir + \"prediction_\" + str(i) + \".png\")\n",
    "    oimg = get_prediction_with_overlay(train_data_filename, i)\n",
    "    oimg.save(prediction_training_dir + \"overlay_\" + str(i) + \".png\")   "
   ]
  },
  {
   "cell_type": "code",
   "execution_count": null,
   "metadata": {
    "collapsed": false
   },
   "outputs": [],
   "source": [
    "print (\"Running prediction on test set\")\n",
    "prediction_test_dir = \"predictions_test/\"\n",
    "test_dir = \"test/\"\n",
    "if not os.path.isdir(prediction_test_dir):\n",
    "    os.mkdir(prediction_test_dir)\n",
    "for i in range(1, TEST_SIZE+1):\n",
    "    imagename = \"test_\" + str(i)\n",
    "    image_filename = test_dir + imagename + \"/\" + imagename + \".png\"\n",
    "    img = mpimg.imread(image_filename)\n",
    "    pimg = cil.img_float_to_uint8(get_prediction(img))\n",
    "    Image.fromarray(pimg).save(prediction_test_dir + \"prediction_\" + str(i) + \".png\")"
   ]
  },
  {
   "cell_type": "code",
   "execution_count": null,
   "metadata": {
    "collapsed": false
   },
   "outputs": [],
   "source": [
    "import mask_to_submission as mts\n",
    "mts.save('submission_07.csv')"
   ]
  }
 ],
 "metadata": {
  "kernelspec": {
   "display_name": "Python 3",
   "language": "python",
   "name": "python3"
  },
  "language_info": {
   "codemirror_mode": {
    "name": "ipython",
    "version": 3
   },
   "file_extension": ".py",
   "mimetype": "text/x-python",
   "name": "python",
   "nbconvert_exporter": "python",
   "pygments_lexer": "ipython3",
   "version": "3.4.3"
  }
 },
 "nbformat": 4,
 "nbformat_minor": 0
}
