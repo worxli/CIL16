{
 "cells": [
  {
   "cell_type": "code",
   "execution_count": null,
   "metadata": {
    "collapsed": true
   },
   "outputs": [],
   "source": []
  },
  {
   "cell_type": "code",
   "execution_count": 128,
   "metadata": {
    "collapsed": true
   },
   "outputs": [],
   "source": [
    "import re\n",
    "import matplotlib.image as mpimg\n",
    "import numpy as np\n",
    "from PIL import Image"
   ]
  },
  {
   "cell_type": "code",
   "execution_count": 129,
   "metadata": {
    "collapsed": true
   },
   "outputs": [],
   "source": [
    "PIXEL_DEPTH = 255\n",
    "def img_float_to_uint8(img):\n",
    "    rimg = img - np.min(img)\n",
    "    rimg = (rimg / np.max(rimg) * PIXEL_DEPTH).round().astype(np.uint8)\n",
    "    return rimg"
   ]
  },
  {
   "cell_type": "code",
   "execution_count": 130,
   "metadata": {
    "collapsed": true
   },
   "outputs": [],
   "source": [
    "def make_img_overlay(img, predicted_img):\n",
    "    w = img.shape[0]\n",
    "    h = img.shape[1]\n",
    "    color_mask = np.zeros((w, h, 3), dtype=np.uint8)\n",
    "    color_mask[:,:,0] = predicted_img*PIXEL_DEPTH\n",
    "\n",
    "    img8 = img_float_to_uint8(img)\n",
    "    background = Image.fromarray(img8, 'RGB').convert(\"RGBA\")\n",
    "    overlay = Image.fromarray(color_mask, 'RGB').convert(\"RGBA\")\n",
    "    new_img = Image.blend(background, overlay, 0.2)\n",
    "    return new_img"
   ]
  },
  {
   "cell_type": "code",
   "execution_count": 131,
   "metadata": {
    "collapsed": true
   },
   "outputs": [],
   "source": [
    "# assign a label to a patch\n",
    "def patch_to_label(patch):\n",
    "    th = 0.25\n",
    "    df = np.mean(patch)\n",
    "    if df > th:\n",
    "        return 1\n",
    "    else:\n",
    "        return 0"
   ]
  },
  {
   "cell_type": "code",
   "execution_count": 153,
   "metadata": {
    "collapsed": true
   },
   "outputs": [],
   "source": [
    "def summary_to_label(patch, n=4):\n",
    "    th = 2#n-1\n",
    "    df = np.mean(patch)\n",
    "    #print(patch)\n",
    "    #print(df)\n",
    "    #print(np.amax(patch))\n",
    "    if df >= th:\n",
    "        return 1\n",
    "    else:\n",
    "        return 0"
   ]
  },
  {
   "cell_type": "code",
   "execution_count": 154,
   "metadata": {
    "collapsed": false
   },
   "outputs": [],
   "source": [
    "def mask_to_submission_strings(im, img_number):\n",
    "    \"\"\"Reads a single image and outputs the strings that should go into the submission file\"\"\"\n",
    "    patch_size = 16\n",
    "    for j in range(0, im.shape[1], patch_size):\n",
    "        for i in range(0, im.shape[0], patch_size):\n",
    "            patch = im[i:i + patch_size, j:j + patch_size]\n",
    "            label = patch_to_label(patch)\n",
    "            yield(\"{:03d}_{}_{},{}\".format(img_number+1, j, i, label))"
   ]
  },
  {
   "cell_type": "code",
   "execution_count": 155,
   "metadata": {
    "collapsed": false
   },
   "outputs": [],
   "source": [
    "def masks_to_submission(submission_filename, *image_files):\n",
    "    \"\"\"Converts images into a submission file\"\"\"\n",
    "    with open(submission_filename, 'w') as f:\n",
    "        f.write('id,prediction\\n')         \n",
    "        for ind, fn in enumerate(image_files[0:]):\n",
    "            f.writelines('{}\\n'.format(s) for s in mask_to_submission_strings(fn, ind))"
   ]
  },
  {
   "cell_type": "code",
   "execution_count": 156,
   "metadata": {
    "collapsed": false
   },
   "outputs": [],
   "source": [
    "def collect_masks(name, ending, patches, id):\n",
    "    TEST_IMG_SIZE = 608\n",
    "    img = np.zeros((TEST_IMG_SIZE,TEST_IMG_SIZE))\n",
    "    for p in patches:\n",
    "        imagename = name + str(p) + '_' + str(id) + ending\n",
    "        print(imagename)\n",
    "        image = mpimg.imread(imagename)\n",
    "        for j in range(0, image.shape[1], p):\n",
    "            for i in range(0, image.shape[0], p):\n",
    "                label = np.mean(image[i:i + p, j:j + p])\n",
    "                #pred_label = np.mean(img[i:i + p, j:j + p])\n",
    "                # set new label\n",
    "                img[i:i + p, j:j + p] = img[i:i + p, j:j + p]+label\n",
    "    \n",
    "    for j in range(0, img.shape[1], p):\n",
    "            for i in range(0, img.shape[0], p):\n",
    "                patch = img[i:i + p, j:j + p]\n",
    "                label = summary_to_label(patch)\n",
    "                img[i:i + p, j:j + p] = label\n",
    "            \n",
    "    testname = 'test/test_'+ str(id) + '/test_' + str(id) + '.png'\n",
    "    testimg = mpimg.imread(testname)        \n",
    "    oimg = make_img_overlay(testimg, img)\n",
    "    oimg.save('predictions_test/' + \"overlay-comb_\" + str(id) + \".png\")\n",
    "                \n",
    "    return img\n",
    "    "
   ]
  },
  {
   "cell_type": "code",
   "execution_count": 157,
   "metadata": {
    "collapsed": false
   },
   "outputs": [],
   "source": [
    "def save(submission_filename):\n",
    "    #subm#ission_filename = 'submission_07.csv'\n",
    "    patches = [2,4,8]\n",
    "    images = []\n",
    "    for i in range(1, 11):\n",
    "    #for i in range(1, 10):\n",
    "        images.append(collect_masks('predictions_test/prediction', '.png', patches, i))\n",
    "    masks_to_submission(submission_filename, *images)\n"
   ]
  },
  {
   "cell_type": "code",
   "execution_count": 158,
   "metadata": {
    "collapsed": false
   },
   "outputs": [
    {
     "name": "stdout",
     "output_type": "stream",
     "text": [
      "predictions_test/prediction2_1.png\n",
      "predictions_test/prediction4_1.png\n",
      "predictions_test/prediction8_1.png\n",
      "predictions_test/prediction2_2.png\n",
      "predictions_test/prediction4_2.png\n",
      "predictions_test/prediction8_2.png\n",
      "predictions_test/prediction2_3.png\n",
      "predictions_test/prediction4_3.png\n",
      "predictions_test/prediction8_3.png\n",
      "predictions_test/prediction2_4.png\n",
      "predictions_test/prediction4_4.png\n",
      "predictions_test/prediction8_4.png\n",
      "predictions_test/prediction2_5.png\n",
      "predictions_test/prediction4_5.png\n",
      "predictions_test/prediction8_5.png\n",
      "predictions_test/prediction2_6.png\n",
      "predictions_test/prediction4_6.png\n",
      "predictions_test/prediction8_6.png\n",
      "predictions_test/prediction2_7.png\n",
      "predictions_test/prediction4_7.png\n",
      "predictions_test/prediction8_7.png\n",
      "predictions_test/prediction2_8.png\n",
      "predictions_test/prediction4_8.png\n",
      "predictions_test/prediction8_8.png\n",
      "predictions_test/prediction2_9.png\n",
      "predictions_test/prediction4_9.png\n",
      "predictions_test/prediction8_9.png\n",
      "predictions_test/prediction2_10.png\n",
      "predictions_test/prediction4_10.png\n",
      "predictions_test/prediction8_10.png\n"
     ]
    }
   ],
   "source": [
    "save('submission_lukas_2-4.csv')"
   ]
  },
  {
   "cell_type": "code",
   "execution_count": null,
   "metadata": {
    "collapsed": false
   },
   "outputs": [],
   "source": []
  },
  {
   "cell_type": "code",
   "execution_count": null,
   "metadata": {
    "collapsed": false
   },
   "outputs": [],
   "source": []
  },
  {
   "cell_type": "code",
   "execution_count": null,
   "metadata": {
    "collapsed": false
   },
   "outputs": [],
   "source": []
  },
  {
   "cell_type": "code",
   "execution_count": null,
   "metadata": {
    "collapsed": true
   },
   "outputs": [],
   "source": []
  }
 ],
 "metadata": {
  "kernelspec": {
   "display_name": "Python 3",
   "language": "python",
   "name": "python3"
  },
  "language_info": {
   "codemirror_mode": {
    "name": "ipython",
    "version": 3
   },
   "file_extension": ".py",
   "mimetype": "text/x-python",
   "name": "python",
   "nbconvert_exporter": "python",
   "pygments_lexer": "ipython3",
   "version": "3.4.3"
  }
 },
 "nbformat": 4,
 "nbformat_minor": 0
}
